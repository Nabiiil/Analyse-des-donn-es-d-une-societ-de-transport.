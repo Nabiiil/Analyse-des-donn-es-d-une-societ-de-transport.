{
  "nbformat": 4,
  "nbformat_minor": 0,
  "metadata": {
    "colab": {
      "name": "etude_de_cas_Nabil_Bouras.ipynb",
      "provenance": [],
      "collapsed_sections": [],
      "toc_visible": true
    },
    "kernelspec": {
      "display_name": "Python 3",
      "name": "python3"
    },
    "language_info": {
      "name": "python"
    },
    "accelerator": "GPU"
  },
  "cells": [
    {
      "cell_type": "markdown",
      "metadata": {
        "id": "RjsZFJ3xPNRt"
      },
      "source": [
        "# Importations\n"
      ]
    },
    {
      "cell_type": "markdown",
      "metadata": {
        "id": "uG25u0fiTEH7"
      },
      "source": [
        "Importation de bibliothèques importantes."
      ]
    },
    {
      "cell_type": "code",
      "metadata": {
        "id": "iEJ6P5BxSwQZ"
      },
      "source": [
        "import io\n",
        "import numpy as np\n",
        "import pandas as pd\n",
        "import sklearn\n",
        "import matplotlib.pyplot as plt\n",
        "\n"
      ],
      "execution_count": null,
      "outputs": []
    },
    {
      "cell_type": "markdown",
      "metadata": {
        "id": "IcbOaJCkPWBm"
      },
      "source": [
        "# Chargement du fichier"
      ]
    },
    {
      "cell_type": "markdown",
      "metadata": {
        "id": "lC3ZTEQsO74w"
      },
      "source": [
        "Le jeu de donnée présenté dans ce travail décrit le transport du marchandise d'un port par des transporteurs. \n"
      ]
    },
    {
      "cell_type": "markdown",
      "metadata": {
        "id": "0krdW2-6dAfM"
      },
      "source": [
        "Importation du fichier et création d'une Pandas Dataframe a partir des données."
      ]
    },
    {
      "cell_type": "code",
      "metadata": {
        "colab": {
          "base_uri": "https://localhost:8080/",
          "height": 539
        },
        "id": "iCCleNwlUVCJ",
        "outputId": "164c1c9d-8d11-404c-917e-25ba311a0a22"
      },
      "source": [
        "path =\"/content/Dataset1 (1).xlsx\"\n",
        "df = pd.read_excel(path)\n",
        "df"
      ],
      "execution_count": null,
      "outputs": [
        {
          "output_type": "execute_result",
          "data": {
            "text/html": [
              "<div>\n",
              "<style scoped>\n",
              "    .dataframe tbody tr th:only-of-type {\n",
              "        vertical-align: middle;\n",
              "    }\n",
              "\n",
              "    .dataframe tbody tr th {\n",
              "        vertical-align: top;\n",
              "    }\n",
              "\n",
              "    .dataframe thead th {\n",
              "        text-align: right;\n",
              "    }\n",
              "</style>\n",
              "<table border=\"1\" class=\"dataframe\">\n",
              "  <thead>\n",
              "    <tr style=\"text-align: right;\">\n",
              "      <th></th>\n",
              "      <th>Num_escale</th>\n",
              "      <th>Num_Vehicule</th>\n",
              "      <th>Num_REMORQUE</th>\n",
              "      <th>Num_Client</th>\n",
              "      <th>Date_entrée</th>\n",
              "      <th>Heure_entrée</th>\n",
              "      <th>Date_sortie</th>\n",
              "      <th>Heure_sortie</th>\n",
              "      <th>Poids_chargé</th>\n",
              "      <th>Poids_vide</th>\n",
              "      <th>Pont_entrée</th>\n",
              "      <th>pont_Sortie</th>\n",
              "      <th>Produit</th>\n",
              "    </tr>\n",
              "  </thead>\n",
              "  <tbody>\n",
              "    <tr>\n",
              "      <th>0</th>\n",
              "      <td>Escale105</td>\n",
              "      <td>Vehicule1</td>\n",
              "      <td>Remorque1</td>\n",
              "      <td>Client1</td>\n",
              "      <td>2020-01-02</td>\n",
              "      <td>08:48</td>\n",
              "      <td>2020-01-02</td>\n",
              "      <td>06:58</td>\n",
              "      <td>43220</td>\n",
              "      <td>15760</td>\n",
              "      <td>14</td>\n",
              "      <td>14.0</td>\n",
              "      <td>TRTX DE SOJA</td>\n",
              "    </tr>\n",
              "    <tr>\n",
              "      <th>1</th>\n",
              "      <td>Escale106</td>\n",
              "      <td>Vehicule2</td>\n",
              "      <td>Remorque2</td>\n",
              "      <td>Client1</td>\n",
              "      <td>2020-01-02</td>\n",
              "      <td>08:47</td>\n",
              "      <td>2020-01-02</td>\n",
              "      <td>07:00</td>\n",
              "      <td>42460</td>\n",
              "      <td>16480</td>\n",
              "      <td>17</td>\n",
              "      <td>17.0</td>\n",
              "      <td>PULPE DE BETTRAVE</td>\n",
              "    </tr>\n",
              "    <tr>\n",
              "      <th>2</th>\n",
              "      <td>Escale106</td>\n",
              "      <td>Vehicule3</td>\n",
              "      <td>Remorque3</td>\n",
              "      <td>Client1</td>\n",
              "      <td>2020-01-02</td>\n",
              "      <td>11:17</td>\n",
              "      <td>2020-01-02</td>\n",
              "      <td>07:02</td>\n",
              "      <td>42940</td>\n",
              "      <td>16600</td>\n",
              "      <td>17</td>\n",
              "      <td>17.0</td>\n",
              "      <td>PULPE DE BETTRAVE</td>\n",
              "    </tr>\n",
              "    <tr>\n",
              "      <th>3</th>\n",
              "      <td>Escale105</td>\n",
              "      <td>Vehicule4</td>\n",
              "      <td>Remorque4</td>\n",
              "      <td>Client1</td>\n",
              "      <td>2020-01-02</td>\n",
              "      <td>08:46</td>\n",
              "      <td>2020-01-02</td>\n",
              "      <td>07:03</td>\n",
              "      <td>42560</td>\n",
              "      <td>14700</td>\n",
              "      <td>14</td>\n",
              "      <td>14.0</td>\n",
              "      <td>TRTX DE SOJA</td>\n",
              "    </tr>\n",
              "    <tr>\n",
              "      <th>4</th>\n",
              "      <td>Escale106</td>\n",
              "      <td>Vehicule5</td>\n",
              "      <td>Remorque5</td>\n",
              "      <td>Client1</td>\n",
              "      <td>2020-01-02</td>\n",
              "      <td>10:05</td>\n",
              "      <td>2020-01-02</td>\n",
              "      <td>07:03</td>\n",
              "      <td>42020</td>\n",
              "      <td>16300</td>\n",
              "      <td>17</td>\n",
              "      <td>17.0</td>\n",
              "      <td>PULPE DE BETTRAVE</td>\n",
              "    </tr>\n",
              "    <tr>\n",
              "      <th>...</th>\n",
              "      <td>...</td>\n",
              "      <td>...</td>\n",
              "      <td>...</td>\n",
              "      <td>...</td>\n",
              "      <td>...</td>\n",
              "      <td>...</td>\n",
              "      <td>...</td>\n",
              "      <td>...</td>\n",
              "      <td>...</td>\n",
              "      <td>...</td>\n",
              "      <td>...</td>\n",
              "      <td>...</td>\n",
              "      <td>...</td>\n",
              "    </tr>\n",
              "    <tr>\n",
              "      <th>70604</th>\n",
              "      <td>Escale27</td>\n",
              "      <td>Vehicule426</td>\n",
              "      <td>Remorque449</td>\n",
              "      <td>Client1</td>\n",
              "      <td>2020-06-09</td>\n",
              "      <td>13:07</td>\n",
              "      <td>2020-06-09</td>\n",
              "      <td>12:05</td>\n",
              "      <td>41400</td>\n",
              "      <td>15580</td>\n",
              "      <td>19</td>\n",
              "      <td>19.0</td>\n",
              "      <td>TRT DE TOURNESOL</td>\n",
              "    </tr>\n",
              "    <tr>\n",
              "      <th>70605</th>\n",
              "      <td>Escale25</td>\n",
              "      <td>Vehicule61</td>\n",
              "      <td>Remorque61</td>\n",
              "      <td>Client2</td>\n",
              "      <td>2020-06-09</td>\n",
              "      <td>12:58</td>\n",
              "      <td>2020-06-09</td>\n",
              "      <td>12:07</td>\n",
              "      <td>42580</td>\n",
              "      <td>17380</td>\n",
              "      <td>7</td>\n",
              "      <td>14.0</td>\n",
              "      <td>DDGS</td>\n",
              "    </tr>\n",
              "    <tr>\n",
              "      <th>70606</th>\n",
              "      <td>Escale25</td>\n",
              "      <td>Vehicule2474</td>\n",
              "      <td>Remorque4137</td>\n",
              "      <td>Client2</td>\n",
              "      <td>2020-06-09</td>\n",
              "      <td>13:09</td>\n",
              "      <td>2020-06-09</td>\n",
              "      <td>12:08</td>\n",
              "      <td>42320</td>\n",
              "      <td>17780</td>\n",
              "      <td>7</td>\n",
              "      <td>14.0</td>\n",
              "      <td>DDGS</td>\n",
              "    </tr>\n",
              "    <tr>\n",
              "      <th>70607</th>\n",
              "      <td>Escale25</td>\n",
              "      <td>Vehicule59</td>\n",
              "      <td>Remorque59</td>\n",
              "      <td>Client2</td>\n",
              "      <td>2020-06-09</td>\n",
              "      <td>13:17</td>\n",
              "      <td>2020-06-09</td>\n",
              "      <td>12:21</td>\n",
              "      <td>42640</td>\n",
              "      <td>17860</td>\n",
              "      <td>7</td>\n",
              "      <td>7.0</td>\n",
              "      <td>DDGS</td>\n",
              "    </tr>\n",
              "    <tr>\n",
              "      <th>70608</th>\n",
              "      <td>Escale25</td>\n",
              "      <td>Vehicule133</td>\n",
              "      <td>Remorque133</td>\n",
              "      <td>Client2</td>\n",
              "      <td>2020-06-09</td>\n",
              "      <td>13:22</td>\n",
              "      <td>2020-06-09</td>\n",
              "      <td>12:27</td>\n",
              "      <td>42600</td>\n",
              "      <td>17500</td>\n",
              "      <td>7</td>\n",
              "      <td>14.0</td>\n",
              "      <td>DDGS</td>\n",
              "    </tr>\n",
              "  </tbody>\n",
              "</table>\n",
              "<p>70609 rows × 13 columns</p>\n",
              "</div>"
            ],
            "text/plain": [
              "      Num_escale  Num_Vehicule  ... pont_Sortie            Produit\n",
              "0      Escale105     Vehicule1  ...        14.0       TRTX DE SOJA\n",
              "1      Escale106     Vehicule2  ...        17.0  PULPE DE BETTRAVE\n",
              "2      Escale106     Vehicule3  ...        17.0  PULPE DE BETTRAVE\n",
              "3      Escale105     Vehicule4  ...        14.0       TRTX DE SOJA\n",
              "4      Escale106     Vehicule5  ...        17.0  PULPE DE BETTRAVE\n",
              "...          ...           ...  ...         ...                ...\n",
              "70604   Escale27   Vehicule426  ...        19.0   TRT DE TOURNESOL\n",
              "70605   Escale25    Vehicule61  ...        14.0               DDGS\n",
              "70606   Escale25  Vehicule2474  ...        14.0               DDGS\n",
              "70607   Escale25    Vehicule59  ...         7.0               DDGS\n",
              "70608   Escale25   Vehicule133  ...        14.0               DDGS\n",
              "\n",
              "[70609 rows x 13 columns]"
            ]
          },
          "metadata": {},
          "execution_count": 2
        }
      ]
    },
    {
      "cell_type": "markdown",
      "metadata": {
        "id": "icOdtow9g1zW"
      },
      "source": [
        "# Recharche des valeurs manquantes"
      ]
    },
    {
      "cell_type": "markdown",
      "metadata": {
        "id": "0RTMD7z2gupX"
      },
      "source": [
        "Inspection basique de la data set, on supprime les lignes avec des valeurs manquantes."
      ]
    },
    {
      "cell_type": "code",
      "metadata": {
        "colab": {
          "base_uri": "https://localhost:8080/",
          "height": 296
        },
        "id": "csD6AEq-WEtS",
        "outputId": "013524f6-6416-4efa-cea9-f01c69b14fa7"
      },
      "source": [
        "nan_df = df[df.isna().any(axis=1)]\n",
        "nan_df.describe()"
      ],
      "execution_count": null,
      "outputs": [
        {
          "output_type": "execute_result",
          "data": {
            "text/html": [
              "<div>\n",
              "<style scoped>\n",
              "    .dataframe tbody tr th:only-of-type {\n",
              "        vertical-align: middle;\n",
              "    }\n",
              "\n",
              "    .dataframe tbody tr th {\n",
              "        vertical-align: top;\n",
              "    }\n",
              "\n",
              "    .dataframe thead th {\n",
              "        text-align: right;\n",
              "    }\n",
              "</style>\n",
              "<table border=\"1\" class=\"dataframe\">\n",
              "  <thead>\n",
              "    <tr style=\"text-align: right;\">\n",
              "      <th></th>\n",
              "      <th>Poids_chargé</th>\n",
              "      <th>Poids_vide</th>\n",
              "      <th>Pont_entrée</th>\n",
              "      <th>pont_Sortie</th>\n",
              "    </tr>\n",
              "  </thead>\n",
              "  <tbody>\n",
              "    <tr>\n",
              "      <th>count</th>\n",
              "      <td>9.000000</td>\n",
              "      <td>9.000000</td>\n",
              "      <td>9.000000</td>\n",
              "      <td>3.000000</td>\n",
              "    </tr>\n",
              "    <tr>\n",
              "      <th>mean</th>\n",
              "      <td>41653.333333</td>\n",
              "      <td>16277.777778</td>\n",
              "      <td>11.777778</td>\n",
              "      <td>13.000000</td>\n",
              "    </tr>\n",
              "    <tr>\n",
              "      <th>std</th>\n",
              "      <td>2201.953678</td>\n",
              "      <td>981.908572</td>\n",
              "      <td>5.190804</td>\n",
              "      <td>5.567764</td>\n",
              "    </tr>\n",
              "    <tr>\n",
              "      <th>min</th>\n",
              "      <td>37380.000000</td>\n",
              "      <td>14960.000000</td>\n",
              "      <td>7.000000</td>\n",
              "      <td>7.000000</td>\n",
              "    </tr>\n",
              "    <tr>\n",
              "      <th>25%</th>\n",
              "      <td>40820.000000</td>\n",
              "      <td>15820.000000</td>\n",
              "      <td>7.000000</td>\n",
              "      <td>10.500000</td>\n",
              "    </tr>\n",
              "    <tr>\n",
              "      <th>50%</th>\n",
              "      <td>41540.000000</td>\n",
              "      <td>15880.000000</td>\n",
              "      <td>10.000000</td>\n",
              "      <td>14.000000</td>\n",
              "    </tr>\n",
              "    <tr>\n",
              "      <th>75%</th>\n",
              "      <td>43820.000000</td>\n",
              "      <td>17140.000000</td>\n",
              "      <td>18.000000</td>\n",
              "      <td>16.000000</td>\n",
              "    </tr>\n",
              "    <tr>\n",
              "      <th>max</th>\n",
              "      <td>43940.000000</td>\n",
              "      <td>17660.000000</td>\n",
              "      <td>18.000000</td>\n",
              "      <td>18.000000</td>\n",
              "    </tr>\n",
              "  </tbody>\n",
              "</table>\n",
              "</div>"
            ],
            "text/plain": [
              "       Poids_chargé    Poids_vide  Pont_entrée  pont_Sortie\n",
              "count      9.000000      9.000000     9.000000     3.000000\n",
              "mean   41653.333333  16277.777778    11.777778    13.000000\n",
              "std     2201.953678    981.908572     5.190804     5.567764\n",
              "min    37380.000000  14960.000000     7.000000     7.000000\n",
              "25%    40820.000000  15820.000000     7.000000    10.500000\n",
              "50%    41540.000000  15880.000000    10.000000    14.000000\n",
              "75%    43820.000000  17140.000000    18.000000    16.000000\n",
              "max    43940.000000  17660.000000    18.000000    18.000000"
            ]
          },
          "metadata": {},
          "execution_count": 3
        }
      ]
    },
    {
      "cell_type": "code",
      "metadata": {
        "colab": {
          "base_uri": "https://localhost:8080/",
          "height": 296
        },
        "id": "VRxTncH5gicL",
        "outputId": "2dfdce37-6504-4b8c-8b5a-50b4faf10db3"
      },
      "source": [
        "df.dropna(inplace=True)\n",
        "df.describe()"
      ],
      "execution_count": null,
      "outputs": [
        {
          "output_type": "execute_result",
          "data": {
            "text/html": [
              "<div>\n",
              "<style scoped>\n",
              "    .dataframe tbody tr th:only-of-type {\n",
              "        vertical-align: middle;\n",
              "    }\n",
              "\n",
              "    .dataframe tbody tr th {\n",
              "        vertical-align: top;\n",
              "    }\n",
              "\n",
              "    .dataframe thead th {\n",
              "        text-align: right;\n",
              "    }\n",
              "</style>\n",
              "<table border=\"1\" class=\"dataframe\">\n",
              "  <thead>\n",
              "    <tr style=\"text-align: right;\">\n",
              "      <th></th>\n",
              "      <th>Poids_chargé</th>\n",
              "      <th>Poids_vide</th>\n",
              "      <th>Pont_entrée</th>\n",
              "      <th>pont_Sortie</th>\n",
              "    </tr>\n",
              "  </thead>\n",
              "  <tbody>\n",
              "    <tr>\n",
              "      <th>count</th>\n",
              "      <td>70600.000000</td>\n",
              "      <td>70600.000000</td>\n",
              "      <td>70600.000000</td>\n",
              "      <td>70600.000000</td>\n",
              "    </tr>\n",
              "    <tr>\n",
              "      <th>mean</th>\n",
              "      <td>42018.032011</td>\n",
              "      <td>16120.752408</td>\n",
              "      <td>13.558031</td>\n",
              "      <td>13.234476</td>\n",
              "    </tr>\n",
              "    <tr>\n",
              "      <th>std</th>\n",
              "      <td>2127.781012</td>\n",
              "      <td>833.683555</td>\n",
              "      <td>4.607503</td>\n",
              "      <td>4.697484</td>\n",
              "    </tr>\n",
              "    <tr>\n",
              "      <th>min</th>\n",
              "      <td>6760.000000</td>\n",
              "      <td>3760.000000</td>\n",
              "      <td>7.000000</td>\n",
              "      <td>7.000000</td>\n",
              "    </tr>\n",
              "    <tr>\n",
              "      <th>25%</th>\n",
              "      <td>41400.000000</td>\n",
              "      <td>15620.000000</td>\n",
              "      <td>7.000000</td>\n",
              "      <td>7.000000</td>\n",
              "    </tr>\n",
              "    <tr>\n",
              "      <th>50%</th>\n",
              "      <td>42580.000000</td>\n",
              "      <td>16100.000000</td>\n",
              "      <td>14.000000</td>\n",
              "      <td>14.000000</td>\n",
              "    </tr>\n",
              "    <tr>\n",
              "      <th>75%</th>\n",
              "      <td>43400.000000</td>\n",
              "      <td>16620.000000</td>\n",
              "      <td>18.000000</td>\n",
              "      <td>18.000000</td>\n",
              "    </tr>\n",
              "    <tr>\n",
              "      <th>max</th>\n",
              "      <td>44000.000000</td>\n",
              "      <td>19960.000000</td>\n",
              "      <td>19.000000</td>\n",
              "      <td>19.000000</td>\n",
              "    </tr>\n",
              "  </tbody>\n",
              "</table>\n",
              "</div>"
            ],
            "text/plain": [
              "       Poids_chargé    Poids_vide   Pont_entrée   pont_Sortie\n",
              "count  70600.000000  70600.000000  70600.000000  70600.000000\n",
              "mean   42018.032011  16120.752408     13.558031     13.234476\n",
              "std     2127.781012    833.683555      4.607503      4.697484\n",
              "min     6760.000000   3760.000000      7.000000      7.000000\n",
              "25%    41400.000000  15620.000000      7.000000      7.000000\n",
              "50%    42580.000000  16100.000000     14.000000     14.000000\n",
              "75%    43400.000000  16620.000000     18.000000     18.000000\n",
              "max    44000.000000  19960.000000     19.000000     19.000000"
            ]
          },
          "metadata": {},
          "execution_count": 4
        }
      ]
    },
    {
      "cell_type": "markdown",
      "metadata": {
        "id": "GOXuvBLNho9g"
      },
      "source": [
        "# Analyse du poids à vide "
      ]
    },
    {
      "cell_type": "markdown",
      "metadata": {
        "id": "AQmSWnQoguhl"
      },
      "source": [
        "Analyse de la colonne poids à vide et sa distribution."
      ]
    },
    {
      "cell_type": "code",
      "metadata": {
        "colab": {
          "base_uri": "https://localhost:8080/",
          "height": 296
        },
        "id": "iVF1Tiwziafa",
        "outputId": "08815586-c1d2-43e7-82cd-c0d54f10d9c2"
      },
      "source": [
        "poids_vide = pd.DataFrame(df['Poids_vide'])\n",
        "poids_vide.describe()"
      ],
      "execution_count": null,
      "outputs": [
        {
          "output_type": "execute_result",
          "data": {
            "text/html": [
              "<div>\n",
              "<style scoped>\n",
              "    .dataframe tbody tr th:only-of-type {\n",
              "        vertical-align: middle;\n",
              "    }\n",
              "\n",
              "    .dataframe tbody tr th {\n",
              "        vertical-align: top;\n",
              "    }\n",
              "\n",
              "    .dataframe thead th {\n",
              "        text-align: right;\n",
              "    }\n",
              "</style>\n",
              "<table border=\"1\" class=\"dataframe\">\n",
              "  <thead>\n",
              "    <tr style=\"text-align: right;\">\n",
              "      <th></th>\n",
              "      <th>Poids_vide</th>\n",
              "    </tr>\n",
              "  </thead>\n",
              "  <tbody>\n",
              "    <tr>\n",
              "      <th>count</th>\n",
              "      <td>70600.000000</td>\n",
              "    </tr>\n",
              "    <tr>\n",
              "      <th>mean</th>\n",
              "      <td>16120.752408</td>\n",
              "    </tr>\n",
              "    <tr>\n",
              "      <th>std</th>\n",
              "      <td>833.683555</td>\n",
              "    </tr>\n",
              "    <tr>\n",
              "      <th>min</th>\n",
              "      <td>3760.000000</td>\n",
              "    </tr>\n",
              "    <tr>\n",
              "      <th>25%</th>\n",
              "      <td>15620.000000</td>\n",
              "    </tr>\n",
              "    <tr>\n",
              "      <th>50%</th>\n",
              "      <td>16100.000000</td>\n",
              "    </tr>\n",
              "    <tr>\n",
              "      <th>75%</th>\n",
              "      <td>16620.000000</td>\n",
              "    </tr>\n",
              "    <tr>\n",
              "      <th>max</th>\n",
              "      <td>19960.000000</td>\n",
              "    </tr>\n",
              "  </tbody>\n",
              "</table>\n",
              "</div>"
            ],
            "text/plain": [
              "         Poids_vide\n",
              "count  70600.000000\n",
              "mean   16120.752408\n",
              "std      833.683555\n",
              "min     3760.000000\n",
              "25%    15620.000000\n",
              "50%    16100.000000\n",
              "75%    16620.000000\n",
              "max    19960.000000"
            ]
          },
          "metadata": {},
          "execution_count": 5
        }
      ]
    },
    {
      "cell_type": "markdown",
      "metadata": {
        "id": "-Z5V5e88ilmG"
      },
      "source": [
        "la distribution est presque une distribution normale gaussiennne avec la majorité des camions autour de la moyenne qui est 16120 Kg "
      ]
    },
    {
      "cell_type": "code",
      "metadata": {
        "colab": {
          "base_uri": "https://localhost:8080/",
          "height": 316
        },
        "id": "r_uQn1N5XPTD",
        "outputId": "21abf706-3428-457a-abdb-6a278d18e4b2"
      },
      "source": [
        "\n",
        "poids_vide.hist()\n"
      ],
      "execution_count": null,
      "outputs": [
        {
          "output_type": "execute_result",
          "data": {
            "text/plain": [
              "array([[<matplotlib.axes._subplots.AxesSubplot object at 0x7ff7c81d26d0>]],\n",
              "      dtype=object)"
            ]
          },
          "metadata": {},
          "execution_count": 6
        },
        {
          "output_type": "display_data",
          "data": {
            "image/png": "[encoded data removed]",
            "text/plain": [
              "<Figure size 432x288 with 1 Axes>"
            ]
          },
          "metadata": {
            "needs_background": "light"
          }
        }
      ]
    },
    {
      "cell_type": "markdown",
      "metadata": {
        "id": "GSHifc6Ajh8s"
      },
      "source": [
        "On analysant la boite à moustache on constate qu'il existe deux valeurs minimales bizzares car ils sont seulement deux observations et ils sont très loins des autres valeurs du premier quartile."
      ]
    },
    {
      "cell_type": "code",
      "metadata": {
        "colab": {
          "base_uri": "https://localhost:8080/",
          "height": 284
        },
        "id": "w4HG7M642bht",
        "outputId": "2e7e9d7c-8f92-49b4-d378-87e79352c45b"
      },
      "source": [
        "poids_vide.boxplot()"
      ],
      "execution_count": null,
      "outputs": [
        {
          "output_type": "execute_result",
          "data": {
            "text/plain": [
              "<matplotlib.axes._subplots.AxesSubplot at 0x7ff7c6dae5d0>"
            ]
          },
          "metadata": {},
          "execution_count": 7
        },
        {
          "output_type": "display_data",
          "data": {
            "image/png": "[encoded data removed]",
            "text/plain": [
              "<Figure size 432x288 with 1 Axes>"
            ]
          },
          "metadata": {
            "needs_background": "light"
          }
        }
      ]
    },
    {
      "cell_type": "code",
      "metadata": {
        "colab": {
          "base_uri": "https://localhost:8080/",
          "height": 296
        },
        "id": "HO2bQS7he8Qh",
        "outputId": "2a9e632f-6b4f-47a6-b5a9-5d6341b18940"
      },
      "source": [
        "q = poids_vide.quantile([0.00, 0.25, 0.50, 0.75, 1.00])\n",
        "col = \"Poids_vide\"\n",
        "q1 = poids_vide[((poids_vide[col]>=q[col][0.00]) & (poids_vide[col]<q[col][0.25]))]\n",
        "q1.describe()\n"
      ],
      "execution_count": null,
      "outputs": [
        {
          "output_type": "execute_result",
          "data": {
            "text/html": [
              "<div>\n",
              "<style scoped>\n",
              "    .dataframe tbody tr th:only-of-type {\n",
              "        vertical-align: middle;\n",
              "    }\n",
              "\n",
              "    .dataframe tbody tr th {\n",
              "        vertical-align: top;\n",
              "    }\n",
              "\n",
              "    .dataframe thead th {\n",
              "        text-align: right;\n",
              "    }\n",
              "</style>\n",
              "<table border=\"1\" class=\"dataframe\">\n",
              "  <thead>\n",
              "    <tr style=\"text-align: right;\">\n",
              "      <th></th>\n",
              "      <th>Poids_vide</th>\n",
              "    </tr>\n",
              "  </thead>\n",
              "  <tbody>\n",
              "    <tr>\n",
              "      <th>count</th>\n",
              "      <td>17414.000000</td>\n",
              "    </tr>\n",
              "    <tr>\n",
              "      <th>mean</th>\n",
              "      <td>15083.832549</td>\n",
              "    </tr>\n",
              "    <tr>\n",
              "      <th>std</th>\n",
              "      <td>557.540388</td>\n",
              "    </tr>\n",
              "    <tr>\n",
              "      <th>min</th>\n",
              "      <td>3760.000000</td>\n",
              "    </tr>\n",
              "    <tr>\n",
              "      <th>25%</th>\n",
              "      <td>14900.000000</td>\n",
              "    </tr>\n",
              "    <tr>\n",
              "      <th>50%</th>\n",
              "      <td>15260.000000</td>\n",
              "    </tr>\n",
              "    <tr>\n",
              "      <th>75%</th>\n",
              "      <td>15460.000000</td>\n",
              "    </tr>\n",
              "    <tr>\n",
              "      <th>max</th>\n",
              "      <td>15600.000000</td>\n",
              "    </tr>\n",
              "  </tbody>\n",
              "</table>\n",
              "</div>"
            ],
            "text/plain": [
              "         Poids_vide\n",
              "count  17414.000000\n",
              "mean   15083.832549\n",
              "std      557.540388\n",
              "min     3760.000000\n",
              "25%    14900.000000\n",
              "50%    15260.000000\n",
              "75%    15460.000000\n",
              "max    15600.000000"
            ]
          },
          "metadata": {},
          "execution_count": 8
        }
      ]
    },
    {
      "cell_type": "markdown",
      "metadata": {
        "id": "eyNtwpXJ5wJX"
      },
      "source": [
        "# Classification des transporteurs par écart type en trois listes (Noires,Rouges,Jaunes)"
      ]
    },
    {
      "cell_type": "markdown",
      "metadata": {
        "id": "Al3oHJOQlLbF"
      },
      "source": [
        "On groupe les couples par remorques et on calcules pour chaque remorque la moyenne du poids vide de tous les voyages qu'elle a fait et l'écart type du poids vide de tous ces voyages."
      ]
    },
    {
      "cell_type": "code",
      "metadata": {
        "colab": {
          "base_uri": "https://localhost:8080/",
          "height": 449
        },
        "id": "f6_s57WpCEvf",
        "outputId": "60a06881-d425-4041-8723-1f1e3f0e7cf1"
      },
      "source": [
        "stats=df.groupby(['Num_REMORQUE']).mean()[\"Poids_vide\"]\n",
        "stds = df.groupby(['Num_REMORQUE']).std()[\"Poids_vide\"]\n",
        "stats = pd.DataFrame(stats)\n",
        "stats[\"poids_vide_std\"]=stds\n",
        "#means= stats.groupby(\"Num_REMORQUE\").mean()[\"Poids_vide\"]\n",
        "\n",
        "stats\n",
        "\n"
      ],
      "execution_count": null,
      "outputs": [
        {
          "output_type": "execute_result",
          "data": {
            "text/html": [
              "<div>\n",
              "<style scoped>\n",
              "    .dataframe tbody tr th:only-of-type {\n",
              "        vertical-align: middle;\n",
              "    }\n",
              "\n",
              "    .dataframe tbody tr th {\n",
              "        vertical-align: top;\n",
              "    }\n",
              "\n",
              "    .dataframe thead th {\n",
              "        text-align: right;\n",
              "    }\n",
              "</style>\n",
              "<table border=\"1\" class=\"dataframe\">\n",
              "  <thead>\n",
              "    <tr style=\"text-align: right;\">\n",
              "      <th></th>\n",
              "      <th>Poids_vide</th>\n",
              "      <th>poids_vide_std</th>\n",
              "    </tr>\n",
              "    <tr>\n",
              "      <th>Num_REMORQUE</th>\n",
              "      <th></th>\n",
              "      <th></th>\n",
              "    </tr>\n",
              "  </thead>\n",
              "  <tbody>\n",
              "    <tr>\n",
              "      <th>Remorque1</th>\n",
              "      <td>15639.829060</td>\n",
              "      <td>127.833289</td>\n",
              "    </tr>\n",
              "    <tr>\n",
              "      <th>Remorque10</th>\n",
              "      <td>15843.877551</td>\n",
              "      <td>119.402573</td>\n",
              "    </tr>\n",
              "    <tr>\n",
              "      <th>Remorque100</th>\n",
              "      <td>15843.736264</td>\n",
              "      <td>219.553326</td>\n",
              "    </tr>\n",
              "    <tr>\n",
              "      <th>Remorque1000</th>\n",
              "      <td>16380.000000</td>\n",
              "      <td>NaN</td>\n",
              "    </tr>\n",
              "    <tr>\n",
              "      <th>Remorque1001</th>\n",
              "      <td>15900.000000</td>\n",
              "      <td>84.852814</td>\n",
              "    </tr>\n",
              "    <tr>\n",
              "      <th>...</th>\n",
              "      <td>...</td>\n",
              "      <td>...</td>\n",
              "    </tr>\n",
              "    <tr>\n",
              "      <th>Remorque995</th>\n",
              "      <td>15247.419355</td>\n",
              "      <td>82.342443</td>\n",
              "    </tr>\n",
              "    <tr>\n",
              "      <th>Remorque996</th>\n",
              "      <td>15752.972973</td>\n",
              "      <td>203.061095</td>\n",
              "    </tr>\n",
              "    <tr>\n",
              "      <th>Remorque997</th>\n",
              "      <td>15920.000000</td>\n",
              "      <td>NaN</td>\n",
              "    </tr>\n",
              "    <tr>\n",
              "      <th>Remorque998</th>\n",
              "      <td>14900.000000</td>\n",
              "      <td>NaN</td>\n",
              "    </tr>\n",
              "    <tr>\n",
              "      <th>Remorque999</th>\n",
              "      <td>16120.000000</td>\n",
              "      <td>113.137085</td>\n",
              "    </tr>\n",
              "  </tbody>\n",
              "</table>\n",
              "<p>4189 rows × 2 columns</p>\n",
              "</div>"
            ],
            "text/plain": [
              "                Poids_vide  poids_vide_std\n",
              "Num_REMORQUE                              \n",
              "Remorque1     15639.829060      127.833289\n",
              "Remorque10    15843.877551      119.402573\n",
              "Remorque100   15843.736264      219.553326\n",
              "Remorque1000  16380.000000             NaN\n",
              "Remorque1001  15900.000000       84.852814\n",
              "...                    ...             ...\n",
              "Remorque995   15247.419355       82.342443\n",
              "Remorque996   15752.972973      203.061095\n",
              "Remorque997   15920.000000             NaN\n",
              "Remorque998   14900.000000             NaN\n",
              "Remorque999   16120.000000      113.137085\n",
              "\n",
              "[4189 rows x 2 columns]"
            ]
          },
          "metadata": {},
          "execution_count": 9
        }
      ]
    },
    {
      "cell_type": "markdown",
      "metadata": {
        "id": "deQMvYZ4pQ2F"
      },
      "source": [
        "on élimine les valeurs manquantes"
      ]
    },
    {
      "cell_type": "code",
      "metadata": {
        "colab": {
          "base_uri": "https://localhost:8080/",
          "height": 418
        },
        "id": "_efBwwNphGQa",
        "outputId": "2b01efad-3609-4ae8-a8a4-3408494bbead"
      },
      "source": [
        "df_q3= df[['Poids_vide','Num_REMORQUE']].dropna()\n",
        "df_q3"
      ],
      "execution_count": null,
      "outputs": [
        {
          "output_type": "execute_result",
          "data": {
            "text/html": [
              "<div>\n",
              "<style scoped>\n",
              "    .dataframe tbody tr th:only-of-type {\n",
              "        vertical-align: middle;\n",
              "    }\n",
              "\n",
              "    .dataframe tbody tr th {\n",
              "        vertical-align: top;\n",
              "    }\n",
              "\n",
              "    .dataframe thead th {\n",
              "        text-align: right;\n",
              "    }\n",
              "</style>\n",
              "<table border=\"1\" class=\"dataframe\">\n",
              "  <thead>\n",
              "    <tr style=\"text-align: right;\">\n",
              "      <th></th>\n",
              "      <th>Poids_vide</th>\n",
              "      <th>Num_REMORQUE</th>\n",
              "    </tr>\n",
              "  </thead>\n",
              "  <tbody>\n",
              "    <tr>\n",
              "      <th>0</th>\n",
              "      <td>15760</td>\n",
              "      <td>Remorque1</td>\n",
              "    </tr>\n",
              "    <tr>\n",
              "      <th>1</th>\n",
              "      <td>16480</td>\n",
              "      <td>Remorque2</td>\n",
              "    </tr>\n",
              "    <tr>\n",
              "      <th>2</th>\n",
              "      <td>16600</td>\n",
              "      <td>Remorque3</td>\n",
              "    </tr>\n",
              "    <tr>\n",
              "      <th>3</th>\n",
              "      <td>14700</td>\n",
              "      <td>Remorque4</td>\n",
              "    </tr>\n",
              "    <tr>\n",
              "      <th>4</th>\n",
              "      <td>16300</td>\n",
              "      <td>Remorque5</td>\n",
              "    </tr>\n",
              "    <tr>\n",
              "      <th>...</th>\n",
              "      <td>...</td>\n",
              "      <td>...</td>\n",
              "    </tr>\n",
              "    <tr>\n",
              "      <th>70604</th>\n",
              "      <td>15580</td>\n",
              "      <td>Remorque449</td>\n",
              "    </tr>\n",
              "    <tr>\n",
              "      <th>70605</th>\n",
              "      <td>17380</td>\n",
              "      <td>Remorque61</td>\n",
              "    </tr>\n",
              "    <tr>\n",
              "      <th>70606</th>\n",
              "      <td>17780</td>\n",
              "      <td>Remorque4137</td>\n",
              "    </tr>\n",
              "    <tr>\n",
              "      <th>70607</th>\n",
              "      <td>17860</td>\n",
              "      <td>Remorque59</td>\n",
              "    </tr>\n",
              "    <tr>\n",
              "      <th>70608</th>\n",
              "      <td>17500</td>\n",
              "      <td>Remorque133</td>\n",
              "    </tr>\n",
              "  </tbody>\n",
              "</table>\n",
              "<p>70600 rows × 2 columns</p>\n",
              "</div>"
            ],
            "text/plain": [
              "       Poids_vide  Num_REMORQUE\n",
              "0           15760     Remorque1\n",
              "1           16480     Remorque2\n",
              "2           16600     Remorque3\n",
              "3           14700     Remorque4\n",
              "4           16300     Remorque5\n",
              "...           ...           ...\n",
              "70604       15580   Remorque449\n",
              "70605       17380    Remorque61\n",
              "70606       17780  Remorque4137\n",
              "70607       17860    Remorque59\n",
              "70608       17500   Remorque133\n",
              "\n",
              "[70600 rows x 2 columns]"
            ]
          },
          "metadata": {},
          "execution_count": 10
        }
      ]
    },
    {
      "cell_type": "markdown",
      "metadata": {
        "id": "AXcmrs9ypnZ7"
      },
      "source": [
        "l'objectif de calcule de la moyenne du poids vide de tous les voyages qu'a fait chaque remorque est de créer une dataframe dont laquelle on va calculer les écarts de chaque observation de poids_vide de remorque avec la moyenne de poids_vide de tous les voyages qu'a fait cette remorque pour voir est ce que le poids de remorque change d'un voyage a un autre d'une manière anormale."
      ]
    },
    {
      "cell_type": "markdown",
      "metadata": {
        "id": "TiJYvs11utqr"
      },
      "source": [
        "Pour ce faire on stock dans un dictionnaire les valeurs moyennes e poids_vide de tous les voyages qu'a fait et on calcule la difference avec le poids vide constaté et on stock la difference dans un dataframe appelé df_test."
      ]
    },
    {
      "cell_type": "code",
      "metadata": {
        "id": "Zzh3RfECmvKs"
      },
      "source": [
        "df_test= pd.DataFrame(columns = ['escale','ecart_mean'])\n",
        "\n",
        "dic_mean = {}\n",
        "dic_std = {}\n",
        "for i,j in stats.iterrows():\n",
        "    dic_mean[i]=j[0]\n",
        "    dic_std[i]=j[1] \n",
        "for i, j in df_q3.iterrows():  \n",
        "    df_test=df_test.append({'escale' : i, 'ecart_mean': j[0]-dic_mean[j[1]]},ignore_index = True)"
      ],
      "execution_count": null,
      "outputs": []
    },
    {
      "cell_type": "markdown",
      "metadata": {
        "id": "_lRhEfNcvHKh"
      },
      "source": [
        "la dataFrame des differences entre le poids_vide constaté et la moyenne de tous les voyages."
      ]
    },
    {
      "cell_type": "code",
      "metadata": {
        "colab": {
          "base_uri": "https://localhost:8080/",
          "height": 418
        },
        "id": "U3R6PhUSpuaR",
        "outputId": "1c023d43-d604-4143-dee3-a12aee1f1283"
      },
      "source": [
        "df_test"
      ],
      "execution_count": null,
      "outputs": [
        {
          "output_type": "execute_result",
          "data": {
            "text/html": [
              "<div>\n",
              "<style scoped>\n",
              "    .dataframe tbody tr th:only-of-type {\n",
              "        vertical-align: middle;\n",
              "    }\n",
              "\n",
              "    .dataframe tbody tr th {\n",
              "        vertical-align: top;\n",
              "    }\n",
              "\n",
              "    .dataframe thead th {\n",
              "        text-align: right;\n",
              "    }\n",
              "</style>\n",
              "<table border=\"1\" class=\"dataframe\">\n",
              "  <thead>\n",
              "    <tr style=\"text-align: right;\">\n",
              "      <th></th>\n",
              "      <th>escale</th>\n",
              "      <th>ecart_mean</th>\n",
              "    </tr>\n",
              "  </thead>\n",
              "  <tbody>\n",
              "    <tr>\n",
              "      <th>0</th>\n",
              "      <td>0.0</td>\n",
              "      <td>120.170940</td>\n",
              "    </tr>\n",
              "    <tr>\n",
              "      <th>1</th>\n",
              "      <td>1.0</td>\n",
              "      <td>-22.765957</td>\n",
              "    </tr>\n",
              "    <tr>\n",
              "      <th>2</th>\n",
              "      <td>2.0</td>\n",
              "      <td>1251.235955</td>\n",
              "    </tr>\n",
              "    <tr>\n",
              "      <th>3</th>\n",
              "      <td>3.0</td>\n",
              "      <td>42.307692</td>\n",
              "    </tr>\n",
              "    <tr>\n",
              "      <th>4</th>\n",
              "      <td>4.0</td>\n",
              "      <td>-32.439024</td>\n",
              "    </tr>\n",
              "    <tr>\n",
              "      <th>...</th>\n",
              "      <td>...</td>\n",
              "      <td>...</td>\n",
              "    </tr>\n",
              "    <tr>\n",
              "      <th>70595</th>\n",
              "      <td>70604.0</td>\n",
              "      <td>9.247312</td>\n",
              "    </tr>\n",
              "    <tr>\n",
              "      <th>70596</th>\n",
              "      <td>70605.0</td>\n",
              "      <td>45.185185</td>\n",
              "    </tr>\n",
              "    <tr>\n",
              "      <th>70597</th>\n",
              "      <td>70606.0</td>\n",
              "      <td>-160.000000</td>\n",
              "    </tr>\n",
              "    <tr>\n",
              "      <th>70598</th>\n",
              "      <td>70607.0</td>\n",
              "      <td>18.958333</td>\n",
              "    </tr>\n",
              "    <tr>\n",
              "      <th>70599</th>\n",
              "      <td>70608.0</td>\n",
              "      <td>-122.247191</td>\n",
              "    </tr>\n",
              "  </tbody>\n",
              "</table>\n",
              "<p>70600 rows × 2 columns</p>\n",
              "</div>"
            ],
            "text/plain": [
              "        escale   ecart_mean\n",
              "0          0.0   120.170940\n",
              "1          1.0   -22.765957\n",
              "2          2.0  1251.235955\n",
              "3          3.0    42.307692\n",
              "4          4.0   -32.439024\n",
              "...        ...          ...\n",
              "70595  70604.0     9.247312\n",
              "70596  70605.0    45.185185\n",
              "70597  70606.0  -160.000000\n",
              "70598  70607.0    18.958333\n",
              "70599  70608.0  -122.247191\n",
              "\n",
              "[70600 rows x 2 columns]"
            ]
          },
          "metadata": {},
          "execution_count": 12
        }
      ]
    },
    {
      "cell_type": "markdown",
      "metadata": {
        "id": "5HSkJJ7yv3x-"
      },
      "source": [
        "Pour classifier selon des listes (noires, jaunes,rouges) on propose prendre cette difference qu'on a dèja calculé et diviser par la moyenne des écart type de chacun des voyages de remorques, en d'autres termes si la différence qu'on a calculé est plus de 2 foit écart type alors c'est alarmant, on met cet élement dans la liste noire, si entre une fois écart type et 2 fois écart type liste rouge si moins d'écart type liste jaune. "
      ]
    },
    {
      "cell_type": "code",
      "metadata": {
        "id": "T8y_8E4qk2EY"
      },
      "source": [
        "observed_std=df.groupby(['Num_REMORQUE'])['Poids_vide'].std().mean()\n",
        "def classifier(ecart):\n",
        "  if ecart/observed_std >= 2 :\n",
        "    return 'Noire'\n",
        "  elif 1 < ecart/observed_std < 2:\n",
        "    return 'Rouge'\n",
        "  else  :\n",
        "    return 'Jaune' "
      ],
      "execution_count": null,
      "outputs": []
    },
    {
      "cell_type": "markdown",
      "metadata": {
        "id": "cpeblYsZws2T"
      },
      "source": [
        "après la classification on ajoute une autre colonne \"Groupe\" au DataFrame initiale pour indiquer la liste auquel un remorque appartient."
      ]
    },
    {
      "cell_type": "code",
      "metadata": {
        "colab": {
          "base_uri": "https://localhost:8080/",
          "height": 438
        },
        "id": "-lsS9r2xieWJ",
        "outputId": "f44ebfd4-710f-40fe-8cb0-96b0d726ced9"
      },
      "source": [
        "#assign(Groupe = lambda x:  classifier(abs(x['ecart_mean'])))\n",
        "df[\"Groupe\"] = df_test.apply(lambda x:  classifier(abs(x.ecart_mean)), axis=1)\n",
        "df"
      ],
      "execution_count": 48,
      "outputs": [
        {
          "output_type": "execute_result",
          "data": {
            "text/html": [
              "<div>\n",
              "<style scoped>\n",
              "    .dataframe tbody tr th:only-of-type {\n",
              "        vertical-align: middle;\n",
              "    }\n",
              "\n",
              "    .dataframe tbody tr th {\n",
              "        vertical-align: top;\n",
              "    }\n",
              "\n",
              "    .dataframe thead th {\n",
              "        text-align: right;\n",
              "    }\n",
              "</style>\n",
              "<table border=\"1\" class=\"dataframe\">\n",
              "  <thead>\n",
              "    <tr style=\"text-align: right;\">\n",
              "      <th></th>\n",
              "      <th>Num_escale</th>\n",
              "      <th>Num_Vehicule</th>\n",
              "      <th>Num_REMORQUE</th>\n",
              "      <th>Num_Client</th>\n",
              "      <th>Poids_chargé</th>\n",
              "      <th>Poids_vide</th>\n",
              "      <th>Pont_entrée</th>\n",
              "      <th>pont_Sortie</th>\n",
              "      <th>Produit</th>\n",
              "      <th>temps_datt</th>\n",
              "      <th>Count</th>\n",
              "      <th>diff_pont</th>\n",
              "      <th>covid</th>\n",
              "      <th>mois</th>\n",
              "      <th>Groupe</th>\n",
              "    </tr>\n",
              "  </thead>\n",
              "  <tbody>\n",
              "    <tr>\n",
              "      <th>0</th>\n",
              "      <td>7</td>\n",
              "      <td>0</td>\n",
              "      <td>0</td>\n",
              "      <td>0</td>\n",
              "      <td>43220</td>\n",
              "      <td>15760</td>\n",
              "      <td>14</td>\n",
              "      <td>14.0</td>\n",
              "      <td>33</td>\n",
              "      <td>6600.0</td>\n",
              "      <td>1</td>\n",
              "      <td>0</td>\n",
              "      <td>1</td>\n",
              "      <td>2</td>\n",
              "      <td>Jaune</td>\n",
              "    </tr>\n",
              "    <tr>\n",
              "      <th>1</th>\n",
              "      <td>8</td>\n",
              "      <td>1111</td>\n",
              "      <td>1111</td>\n",
              "      <td>0</td>\n",
              "      <td>42460</td>\n",
              "      <td>16480</td>\n",
              "      <td>17</td>\n",
              "      <td>17.0</td>\n",
              "      <td>23</td>\n",
              "      <td>6420.0</td>\n",
              "      <td>1</td>\n",
              "      <td>0</td>\n",
              "      <td>1</td>\n",
              "      <td>2</td>\n",
              "      <td>Jaune</td>\n",
              "    </tr>\n",
              "    <tr>\n",
              "      <th>2</th>\n",
              "      <td>8</td>\n",
              "      <td>1720</td>\n",
              "      <td>2222</td>\n",
              "      <td>0</td>\n",
              "      <td>42940</td>\n",
              "      <td>16600</td>\n",
              "      <td>17</td>\n",
              "      <td>17.0</td>\n",
              "      <td>23</td>\n",
              "      <td>15300.0</td>\n",
              "      <td>1</td>\n",
              "      <td>0</td>\n",
              "      <td>1</td>\n",
              "      <td>2</td>\n",
              "      <td>Noire</td>\n",
              "    </tr>\n",
              "    <tr>\n",
              "      <th>3</th>\n",
              "      <td>7</td>\n",
              "      <td>1831</td>\n",
              "      <td>3333</td>\n",
              "      <td>0</td>\n",
              "      <td>42560</td>\n",
              "      <td>14700</td>\n",
              "      <td>14</td>\n",
              "      <td>14.0</td>\n",
              "      <td>33</td>\n",
              "      <td>6180.0</td>\n",
              "      <td>1</td>\n",
              "      <td>0</td>\n",
              "      <td>1</td>\n",
              "      <td>2</td>\n",
              "      <td>Jaune</td>\n",
              "    </tr>\n",
              "    <tr>\n",
              "      <th>4</th>\n",
              "      <td>8</td>\n",
              "      <td>1942</td>\n",
              "      <td>3634</td>\n",
              "      <td>0</td>\n",
              "      <td>42020</td>\n",
              "      <td>16300</td>\n",
              "      <td>17</td>\n",
              "      <td>17.0</td>\n",
              "      <td>23</td>\n",
              "      <td>10920.0</td>\n",
              "      <td>1</td>\n",
              "      <td>0</td>\n",
              "      <td>1</td>\n",
              "      <td>2</td>\n",
              "      <td>Jaune</td>\n",
              "    </tr>\n",
              "    <tr>\n",
              "      <th>...</th>\n",
              "      <td>...</td>\n",
              "      <td>...</td>\n",
              "      <td>...</td>\n",
              "      <td>...</td>\n",
              "      <td>...</td>\n",
              "      <td>...</td>\n",
              "      <td>...</td>\n",
              "      <td>...</td>\n",
              "      <td>...</td>\n",
              "      <td>...</td>\n",
              "      <td>...</td>\n",
              "      <td>...</td>\n",
              "      <td>...</td>\n",
              "      <td>...</td>\n",
              "      <td>...</td>\n",
              "    </tr>\n",
              "    <tr>\n",
              "      <th>70595</th>\n",
              "      <td>85</td>\n",
              "      <td>391</td>\n",
              "      <td>360</td>\n",
              "      <td>5</td>\n",
              "      <td>43020</td>\n",
              "      <td>15160</td>\n",
              "      <td>14</td>\n",
              "      <td>7.0</td>\n",
              "      <td>4</td>\n",
              "      <td>3720.0</td>\n",
              "      <td>1</td>\n",
              "      <td>1</td>\n",
              "      <td>0</td>\n",
              "      <td>3</td>\n",
              "      <td>Jaune</td>\n",
              "    </tr>\n",
              "    <tr>\n",
              "      <th>70596</th>\n",
              "      <td>42</td>\n",
              "      <td>2176</td>\n",
              "      <td>3868</td>\n",
              "      <td>11</td>\n",
              "      <td>41220</td>\n",
              "      <td>15860</td>\n",
              "      <td>7</td>\n",
              "      <td>7.0</td>\n",
              "      <td>10</td>\n",
              "      <td>3060.0</td>\n",
              "      <td>1</td>\n",
              "      <td>0</td>\n",
              "      <td>0</td>\n",
              "      <td>3</td>\n",
              "      <td>Jaune</td>\n",
              "    </tr>\n",
              "    <tr>\n",
              "      <th>70597</th>\n",
              "      <td>42</td>\n",
              "      <td>1112</td>\n",
              "      <td>1112</td>\n",
              "      <td>11</td>\n",
              "      <td>39040</td>\n",
              "      <td>15600</td>\n",
              "      <td>7</td>\n",
              "      <td>7.0</td>\n",
              "      <td>10</td>\n",
              "      <td>3660.0</td>\n",
              "      <td>1</td>\n",
              "      <td>0</td>\n",
              "      <td>0</td>\n",
              "      <td>3</td>\n",
              "      <td>Rouge</td>\n",
              "    </tr>\n",
              "    <tr>\n",
              "      <th>70598</th>\n",
              "      <td>42</td>\n",
              "      <td>960</td>\n",
              "      <td>1946</td>\n",
              "      <td>11</td>\n",
              "      <td>41660</td>\n",
              "      <td>16560</td>\n",
              "      <td>7</td>\n",
              "      <td>7.0</td>\n",
              "      <td>10</td>\n",
              "      <td>3360.0</td>\n",
              "      <td>1</td>\n",
              "      <td>0</td>\n",
              "      <td>0</td>\n",
              "      <td>3</td>\n",
              "      <td>Jaune</td>\n",
              "    </tr>\n",
              "    <tr>\n",
              "      <th>70599</th>\n",
              "      <td>44</td>\n",
              "      <td>1803</td>\n",
              "      <td>3267</td>\n",
              "      <td>0</td>\n",
              "      <td>41200</td>\n",
              "      <td>15780</td>\n",
              "      <td>19</td>\n",
              "      <td>7.0</td>\n",
              "      <td>30</td>\n",
              "      <td>3300.0</td>\n",
              "      <td>1</td>\n",
              "      <td>1</td>\n",
              "      <td>0</td>\n",
              "      <td>3</td>\n",
              "      <td>Jaune</td>\n",
              "    </tr>\n",
              "  </tbody>\n",
              "</table>\n",
              "<p>70591 rows × 15 columns</p>\n",
              "</div>"
            ],
            "text/plain": [
              "       Num_escale  Num_Vehicule  Num_REMORQUE  ...  covid  mois  Groupe\n",
              "0               7             0             0  ...      1     2   Jaune\n",
              "1               8          1111          1111  ...      1     2   Jaune\n",
              "2               8          1720          2222  ...      1     2   Noire\n",
              "3               7          1831          3333  ...      1     2   Jaune\n",
              "4               8          1942          3634  ...      1     2   Jaune\n",
              "...           ...           ...           ...  ...    ...   ...     ...\n",
              "70595          85           391           360  ...      0     3   Jaune\n",
              "70596          42          2176          3868  ...      0     3   Jaune\n",
              "70597          42          1112          1112  ...      0     3   Rouge\n",
              "70598          42           960          1946  ...      0     3   Jaune\n",
              "70599          44          1803          3267  ...      0     3   Jaune\n",
              "\n",
              "[70591 rows x 15 columns]"
            ]
          },
          "metadata": {},
          "execution_count": 48
        }
      ]
    },
    {
      "cell_type": "markdown",
      "metadata": {
        "id": "pXJ2_9PZ6OCf"
      },
      "source": [
        "# Analyse du temps d'attente"
      ]
    },
    {
      "cell_type": "markdown",
      "metadata": {
        "id": "B2FxZFH1xAhH"
      },
      "source": [
        "Calcule de temps d'attente entre chaque pesage vide et pesage chargé."
      ]
    },
    {
      "cell_type": "code",
      "metadata": {
        "id": "7QwefpOXEP8z"
      },
      "source": [
        "from datetime import datetime\n",
        "time_df=pd.DataFrame(columns=[\"vehicule\",\"remorque\",\"Temps d’attente\"])\n",
        "pd.to_datetime(df['Date_entrée'])\n",
        "pd.to_datetime(df['Date_sortie'])\n",
        "\n",
        "for i,j in df.iterrows():\n",
        "    date_entre = j[4].strftime(\"%m/%d/%Y\")\n",
        "    date_sortie = j[6].strftime(\"%m/%d/%Y\")\n",
        "    temps_sortie=date_sortie+\", \"+ j[7]\n",
        "    temps_entre=date_entre+\", \"+ j[5]\n",
        "    temps_sortie=datetime.strptime(temps_sortie, \"%m/%d/%Y, %H:%M\")\n",
        "    temps_entre=datetime.strptime(temps_entre, \"%m/%d/%Y, %H:%M\")\n",
        "    time_delta=(temps_sortie-temps_entre)\n",
        "    time_df=time_df.append({'vehicule':j[1],\"remorque\":j[2],'Temps d’attente':(time_delta/60)*(-1)},ignore_index = True)\n",
        "  \n",
        "\n"
      ],
      "execution_count": null,
      "outputs": []
    },
    {
      "cell_type": "markdown",
      "metadata": {
        "id": "Byaq5mb3xG_v"
      },
      "source": [
        "Temps d'attente en seconds."
      ]
    },
    {
      "cell_type": "code",
      "metadata": {
        "colab": {
          "base_uri": "https://localhost:8080/"
        },
        "id": "lda3aP2YtACE",
        "outputId": "cf953d9f-e9c2-4081-f132-70b809296c55"
      },
      "source": [
        "60*time_df['Temps d’attente'].dt.total_seconds().describe()"
      ],
      "execution_count": null,
      "outputs": [
        {
          "output_type": "execute_result",
          "data": {
            "text/plain": [
              "count    4.236000e+06\n",
              "mean     1.291589e+04\n",
              "std      1.236306e+04\n",
              "min     -3.936000e+04\n",
              "25%      5.040000e+03\n",
              "50%      8.880000e+03\n",
              "75%      1.632000e+04\n",
              "max      1.857600e+05\n",
              "Name: Temps d’attente, dtype: float64"
            ]
          },
          "metadata": {},
          "execution_count": 16
        }
      ]
    },
    {
      "cell_type": "code",
      "metadata": {
        "colab": {
          "base_uri": "https://localhost:8080/"
        },
        "id": "xXZtc1Lyhc78",
        "outputId": "1ffc8759-c4c3-4a95-efea-eec4ec645704"
      },
      "source": [
        "df['Count'] = 1\n",
        "df[\"temps_datt\"]=time_df['Temps d’attente']\n",
        "groupat_temps=df.groupby(['temps_datt','Groupe']).count()\n",
        "df_viz_temps = df[['temps_datt','Groupe','Count']]\n",
        "dff_temps=df_viz_temps.groupby(['temps_datt','Groupe']).count()\n",
        "df_vizual_temps = dff_temps.unstack()\n",
        "time_noir = df[df[\"Groupe\"]==\"Noire\"]\n",
        "60*time_noir['temps_datt'].dt.total_seconds().describe()\n"
      ],
      "execution_count": null,
      "outputs": [
        {
          "output_type": "execute_result",
          "data": {
            "text/plain": [
              "count    265500.000000\n",
              "mean      13247.172881\n",
              "std       12894.082091\n",
              "min       -5220.000000\n",
              "25%        4980.000000\n",
              "50%        9000.000000\n",
              "75%       16560.000000\n",
              "max      103680.000000\n",
              "Name: temps_datt, dtype: float64"
            ]
          },
          "metadata": {},
          "execution_count": 18
        }
      ]
    },
    {
      "cell_type": "markdown",
      "metadata": {
        "id": "SL4vs1at6ck_"
      },
      "source": [
        "# Analyse par destination"
      ]
    },
    {
      "cell_type": "markdown",
      "metadata": {
        "id": "-qRQ0n-5xksP"
      },
      "source": [
        "on fait un analyse par destination en groupant chaque client avec le groupe c'est a dire la liste des camions qui vont chez lui pour voir si il y'a une correlation."
      ]
    },
    {
      "cell_type": "code",
      "metadata": {
        "id": "dhwovN0S0WhJ"
      },
      "source": [
        "\n",
        "df_viz = df[['Num_Client','Groupe','Count']]\n",
        "#df_viz.plot(kind = 'bar', stacked = True,  color = ['y','r','b'])"
      ],
      "execution_count": null,
      "outputs": []
    },
    {
      "cell_type": "markdown",
      "metadata": {
        "id": "3jkUqatvyEA5"
      },
      "source": [
        "On constatant la figure çi-dessous dans laquel on trace un plot a bar dans lequel pour chaque client la fréquence de chaque groupe."
      ]
    },
    {
      "cell_type": "code",
      "metadata": {
        "colab": {
          "base_uri": "https://localhost:8080/",
          "height": 638
        },
        "id": "qFBHXLqE_WwW",
        "outputId": "4f215b7d-5482-4053-9e41-59299b6e3314"
      },
      "source": [
        "dff=df_viz.groupby(['Num_Client','Groupe']).count()\n",
        "values =dff.values\n",
        "#jaune =values[[i  for i in range(len(values)) if i \\\\3 == 0]]\n",
        "noire =[]\n",
        "rouge =[]\n",
        "j = 0\n",
        "n = 1\n",
        "r = 2\n",
        "df_vizual = dff.unstack()\n",
        "groupat=df.groupby(['Num_Client','Groupe']).count()[\"Poids_vide\"]\n",
        "groupat = pd.DataFrame(groupat)\n",
        "groupat.rename(columns = {'Poids_vide' : 'Count'})\n",
        "df_viz = df[['Num_Client','Groupe','Count']]\n",
        "df_viz.reset_index(drop=True, inplace=True)\n",
        "df_viz.dropna()\n",
        "df_vizual.plot(figsize=(10,10),kind = 'bar', stacked = True,  color = ['yellow','black','red'])\n",
        "plt.show()"
      ],
      "execution_count": null,
      "outputs": [
        {
          "output_type": "display_data",
          "data": {
            "image/png": "[encoded data removed]",
            "text/plain": [
              "<Figure size 720x720 with 1 Axes>"
            ]
          },
          "metadata": {
            "needs_background": "light"
          }
        }
      ]
    },
    {
      "cell_type": "code",
      "metadata": {
        "id": "tvclz2frXwX2",
        "colab": {
          "base_uri": "https://localhost:8080/"
        },
        "outputId": "062aec2e-9a91-40ab-9555-6c70b2bd0c2c"
      },
      "source": [
        "from scipy.stats import chi2_contingency\n",
        "table1 = pd.crosstab(df['Num_Client'],df['Groupe']) # Table de contingence\n",
        "results1 = chi2_contingency(table1)\n",
        "print('statistique du test :', results1[0])\n",
        "print('p-value :', results1[1])\n",
        "print('Degrés de liberté :', results1[2])\n"
      ],
      "execution_count": 49,
      "outputs": [
        {
          "output_type": "stream",
          "name": "stdout",
          "text": [
            "statistique du test : 455.2189368070806\n",
            "p-value : 9.516334065593525e-67\n",
            "Degrés de liberté : 50\n"
          ]
        }
      ]
    },
    {
      "cell_type": "markdown",
      "metadata": {
        "id": "6AyApI5Y6ijm"
      },
      "source": [
        "# Analyse par produit"
      ]
    },
    {
      "cell_type": "markdown",
      "metadata": {
        "id": "Kei8V5EJy2wW"
      },
      "source": [
        "De meme on fait une analyse par produit,on trace un plot a bar dans lequel pour chaque produit la fréquence de chaque groupe qui le transportent."
      ]
    },
    {
      "cell_type": "code",
      "metadata": {
        "colab": {
          "base_uri": "https://localhost:8080/",
          "height": 863
        },
        "id": "dCLeJo4qJuPf",
        "outputId": "0f3e9f6a-86a2-47f2-9453-a082e8f0dab7"
      },
      "source": [
        "groupat_prod=df.groupby(['Produit','Groupe']).count()\n",
        "df_viz_prod = df[['Produit','Groupe','Count']]\n",
        "dff_prod=df_viz_prod.groupby(['Produit','Groupe']).count()\n",
        "df_vizual_prod = dff_prod.unstack()\n",
        "df_vizual_prod.plot(figsize=(10,10),kind = 'bar', stacked = True,  color = ['yellow','black','red'])\n",
        "plt.show()\n"
      ],
      "execution_count": null,
      "outputs": [
        {
          "output_type": "display_data",
          "data": {
            "image/png": "[encoded data removed]",
            "text/plain": [
              "<Figure size 720x720 with 1 Axes>"
            ]
          },
          "metadata": {
            "needs_background": "light"
          }
        }
      ]
    },
    {
      "cell_type": "code",
      "metadata": {
        "id": "qWWLpNo5LUdz",
        "colab": {
          "base_uri": "https://localhost:8080/"
        },
        "outputId": "6f4f127f-a77a-4d98-86fa-a8b44a4a8d83"
      },
      "source": [
        "from scipy.stats import chi2_contingency\n",
        "\n",
        "table = pd.crosstab(df['Produit'],df['Groupe']) # Table de contingence\n",
        "results = chi2_contingency(table)\n",
        "print('statistique du test :', results[0])\n",
        "print('p-value :', results[1])\n",
        "print('Degrés de liberté :', results[2])"
      ],
      "execution_count": null,
      "outputs": [
        {
          "output_type": "stream",
          "name": "stdout",
          "text": [
            "statistique du test : 575.0460318969231\n",
            "p-value : 4.607684037675825e-67\n",
            "Degrés de liberté : 102\n"
          ]
        }
      ]
    },
    {
      "cell_type": "markdown",
      "metadata": {
        "id": "dwkCX-8G6nce"
      },
      "source": [
        "# Analyse par changement du pont de pesage"
      ]
    },
    {
      "cell_type": "code",
      "metadata": {
        "id": "q2aT7q6SQLzJ"
      },
      "source": [
        ""
      ],
      "execution_count": null,
      "outputs": []
    },
    {
      "cell_type": "markdown",
      "metadata": {
        "id": "2OQBgUYkzDa2"
      },
      "source": [
        "également ici on fait une analyse par le fait qu'un transportaur a changé de pont de pesage, alors on crée une caractéristique appélé diff qui va retourner True si un transporteur a changé de pont et False sinon et on trace un plot a bar dans lequel pour chaque caractéristique(True ou False) la fréquence de chaque groupe."
      ]
    },
    {
      "cell_type": "code",
      "metadata": {
        "colab": {
          "base_uri": "https://localhost:8080/",
          "height": 622
        },
        "id": "yg2bKmAoJ4TK",
        "outputId": "9dc21566-9bac-451f-a3c9-79bdbe2669f3"
      },
      "source": [
        "diff=(df[\"Pont_entrée\"] != df[\"pont_Sortie\"])\n",
        "\n",
        "df[\"diff_pont\"]=diff\n",
        "diff_pont =  df[['diff_pont','Groupe','Count']]\n",
        "dff_diff=diff_pont.groupby(['diff_pont','Groupe']).count()\n",
        "df_vizual_diff = dff_diff.unstack()\n",
        "df_vizual_diff.plot(figsize=(10,10),kind = 'bar', stacked = True,  color = ['yellow','black','red'])\n",
        "plt.show()\n"
      ],
      "execution_count": null,
      "outputs": [
        {
          "output_type": "display_data",
          "data": {
            "image/png": "[encoded data removed]",
            "text/plain": [
              "<Figure size 720x720 with 1 Axes>"
            ]
          },
          "metadata": {
            "needs_background": "light"
          }
        }
      ]
    },
    {
      "cell_type": "code",
      "metadata": {
        "id": "c1m08P_YaI0N",
        "colab": {
          "base_uri": "https://localhost:8080/"
        },
        "outputId": "596d4962-16ab-4036-fe83-e9b59eb3b07e"
      },
      "source": [
        "table2 = pd.crosstab(df['diff_pont'],df['Groupe']) # Table de contingence\n",
        "results2 = chi2_contingency(table2)\n",
        "print('statistique du test :', results2[0])\n",
        "print('p-value :', results[1])\n",
        "print('Degrés de liberté :', results2[2])"
      ],
      "execution_count": null,
      "outputs": [
        {
          "output_type": "stream",
          "name": "stdout",
          "text": [
            "statistique du test : 33.334478984529696\n",
            "p-value : 4.607684037675825e-67\n",
            "Degrés de liberté : 2\n"
          ]
        }
      ]
    },
    {
      "cell_type": "markdown",
      "metadata": {
        "id": "IvFz3SjQ6u-9"
      },
      "source": [
        "# Analyse par saisonnalité"
      ]
    },
    {
      "cell_type": "markdown",
      "metadata": {
        "id": "I_5nOKKJeVix"
      },
      "source": [
        "Analyse par période covid"
      ]
    },
    {
      "cell_type": "code",
      "metadata": {
        "id": "2a9IIi3iKgpu"
      },
      "source": [
        "from datetime import datetime\n",
        "df_covid = pd.DataFrame(columns=[\"période_covid\",\"Groupe\"])\n",
        "\n",
        "for i, j in df.iterrows():  \n",
        "    date_entre = j[4].strftime(\"%m/%d/%Y\")\n",
        "    temps_entre=date_entre+\", \"+ j[5]\n",
        "    temps_covid = \"03/16/2020, 00:00\"\n",
        "    temps_covid=datetime.strptime(temps_covid, \"%m/%d/%Y, %H:%M\")\n",
        "    temps_entre=datetime.strptime(temps_entre, \"%m/%d/%Y, %H:%M\")\n",
        "    time_covid=(temps_entre<temps_covid)\n",
        "    df_covid=df_covid.append({'période_covid' : time_covid, 'Groupe': j[13]},ignore_index = True)\n",
        "\n"
      ],
      "execution_count": null,
      "outputs": []
    },
    {
      "cell_type": "code",
      "metadata": {
        "colab": {
          "base_uri": "https://localhost:8080/",
          "height": 621
        },
        "id": "UsU66XWGa0W0",
        "outputId": "42e27043-9bbe-4e68-c27b-a9db1d406681"
      },
      "source": [
        "df[\"covid\"]=df_covid['période_covid']  \n",
        "viz_cov=df[[\"covid\",\"Groupe\",\"Count\"]]\n",
        "\n",
        "dff_cov=viz_cov.groupby(['covid','Groupe']).count()\n",
        "df_vizual_cov = dff_cov.unstack()\n",
        "df_vizual_cov.plot(figsize=(10,10),kind = 'bar', stacked = True,  color = ['yellow','black','red'])\n",
        "plt.show()"
      ],
      "execution_count": null,
      "outputs": [
        {
          "output_type": "display_data",
          "data": {
            "image/png": "[encoded data removed]",
            "text/plain": [
              "<Figure size 720x720 with 1 Axes>"
            ]
          },
          "metadata": {
            "needs_background": "light"
          }
        }
      ]
    },
    {
      "cell_type": "markdown",
      "metadata": {
        "id": "3a6jpY9XeaDs"
      },
      "source": [
        "Analyse par mois"
      ]
    },
    {
      "cell_type": "code",
      "metadata": {
        "id": "gHp0lbD3JrE1"
      },
      "source": [
        "df_season = pd.DataFrame(columns=[\"mois\",\"Groupe\"])\n",
        "dict_mois={\"01\":\"Janvier\",\"02\":\"Février\",\"03\":\"Mars\",\"04\":\"Avril\",\"05\":\"Mai\",\"06\":'Juin',\"07\":\"Juillet\",\"08\":\"Aout\",\"09\":\"Septembre\",\"10\":\"Octobre\",\"11\":\"Novembre\",\"12\":\"Decembre\"}\n",
        "for i, j in df.iterrows():  \n",
        "    date_entre = j[4].strftime(\"%m/%d/%Y\")\n",
        "    mois=date_entre[0:2]\n",
        "    df_season=df_season.append({'mois' : dict_mois[mois], 'Groupe': j[13]},ignore_index = True)\n",
        "\n",
        "    "
      ],
      "execution_count": null,
      "outputs": []
    },
    {
      "cell_type": "code",
      "metadata": {
        "colab": {
          "base_uri": "https://localhost:8080/",
          "height": 630
        },
        "id": "HoBiB0U7dwc3",
        "outputId": "ccc0df2a-9bfe-4dcb-b269-0719a8fdc638"
      },
      "source": [
        "df[\"mois\"]=df_season['mois'] \n",
        "viz_mois=df[[\"mois\",\"Groupe\",\"Count\"]]\n",
        "\n",
        "dff_mois=viz_mois.groupby(['mois','Groupe']).count()\n",
        "df_vizual_mois = dff_mois.unstack()\n",
        "df_vizual_mois.plot(figsize=(10,10),kind = 'bar', stacked = True,  color = ['yellow','black','red'])\n",
        "plt.show()"
      ],
      "execution_count": null,
      "outputs": [
        {
          "output_type": "display_data",
          "data": {
            "image/png": "[encoded data removed]",
            "text/plain": [
              "<Figure size 720x720 with 1 Axes>"
            ]
          },
          "metadata": {
            "needs_background": "light"
          }
        }
      ]
    },
    {
      "cell_type": "markdown",
      "metadata": {
        "id": "DHUtnoq5736A"
      },
      "source": [
        "# Machine learning"
      ]
    },
    {
      "cell_type": "markdown",
      "metadata": {
        "id": "fEhI9PaWQ-tS"
      },
      "source": [
        "Preprocessing de jeu de données"
      ]
    },
    {
      "cell_type": "code",
      "metadata": {
        "colab": {
          "base_uri": "https://localhost:8080/",
          "height": 308
        },
        "id": "FP0ScBGVfkln",
        "outputId": "903ab553-7b19-4568-c8cc-a26372e5e14b"
      },
      "source": [
        "df.head()"
      ],
      "execution_count": null,
      "outputs": [
        {
          "output_type": "execute_result",
          "data": {
            "text/html": [
              "<div>\n",
              "<style scoped>\n",
              "    .dataframe tbody tr th:only-of-type {\n",
              "        vertical-align: middle;\n",
              "    }\n",
              "\n",
              "    .dataframe tbody tr th {\n",
              "        vertical-align: top;\n",
              "    }\n",
              "\n",
              "    .dataframe thead th {\n",
              "        text-align: right;\n",
              "    }\n",
              "</style>\n",
              "<table border=\"1\" class=\"dataframe\">\n",
              "  <thead>\n",
              "    <tr style=\"text-align: right;\">\n",
              "      <th></th>\n",
              "      <th>Num_escale</th>\n",
              "      <th>Num_Vehicule</th>\n",
              "      <th>Num_REMORQUE</th>\n",
              "      <th>Num_Client</th>\n",
              "      <th>Date_entrée</th>\n",
              "      <th>Heure_entrée</th>\n",
              "      <th>Date_sortie</th>\n",
              "      <th>Heure_sortie</th>\n",
              "      <th>Poids_chargé</th>\n",
              "      <th>Poids_vide</th>\n",
              "      <th>Pont_entrée</th>\n",
              "      <th>pont_Sortie</th>\n",
              "      <th>Produit</th>\n",
              "      <th>Groupe</th>\n",
              "      <th>temps_datt</th>\n",
              "      <th>Count</th>\n",
              "      <th>diff_pont</th>\n",
              "      <th>covid</th>\n",
              "      <th>mois</th>\n",
              "    </tr>\n",
              "  </thead>\n",
              "  <tbody>\n",
              "    <tr>\n",
              "      <th>0</th>\n",
              "      <td>Escale105</td>\n",
              "      <td>Vehicule1</td>\n",
              "      <td>Remorque1</td>\n",
              "      <td>Client1</td>\n",
              "      <td>2020-01-02</td>\n",
              "      <td>08:48</td>\n",
              "      <td>2020-01-02</td>\n",
              "      <td>06:58</td>\n",
              "      <td>43220</td>\n",
              "      <td>15760</td>\n",
              "      <td>14</td>\n",
              "      <td>14.0</td>\n",
              "      <td>TRTX DE SOJA</td>\n",
              "      <td>Jaune</td>\n",
              "      <td>0 days 00:01:50</td>\n",
              "      <td>1</td>\n",
              "      <td>False</td>\n",
              "      <td>True</td>\n",
              "      <td>Janvier</td>\n",
              "    </tr>\n",
              "    <tr>\n",
              "      <th>1</th>\n",
              "      <td>Escale106</td>\n",
              "      <td>Vehicule2</td>\n",
              "      <td>Remorque2</td>\n",
              "      <td>Client1</td>\n",
              "      <td>2020-01-02</td>\n",
              "      <td>08:47</td>\n",
              "      <td>2020-01-02</td>\n",
              "      <td>07:00</td>\n",
              "      <td>42460</td>\n",
              "      <td>16480</td>\n",
              "      <td>17</td>\n",
              "      <td>17.0</td>\n",
              "      <td>PULPE DE BETTRAVE</td>\n",
              "      <td>Jaune</td>\n",
              "      <td>0 days 00:01:47</td>\n",
              "      <td>1</td>\n",
              "      <td>False</td>\n",
              "      <td>True</td>\n",
              "      <td>Janvier</td>\n",
              "    </tr>\n",
              "    <tr>\n",
              "      <th>2</th>\n",
              "      <td>Escale106</td>\n",
              "      <td>Vehicule3</td>\n",
              "      <td>Remorque3</td>\n",
              "      <td>Client1</td>\n",
              "      <td>2020-01-02</td>\n",
              "      <td>11:17</td>\n",
              "      <td>2020-01-02</td>\n",
              "      <td>07:02</td>\n",
              "      <td>42940</td>\n",
              "      <td>16600</td>\n",
              "      <td>17</td>\n",
              "      <td>17.0</td>\n",
              "      <td>PULPE DE BETTRAVE</td>\n",
              "      <td>Noire</td>\n",
              "      <td>0 days 00:04:15</td>\n",
              "      <td>1</td>\n",
              "      <td>False</td>\n",
              "      <td>True</td>\n",
              "      <td>Janvier</td>\n",
              "    </tr>\n",
              "    <tr>\n",
              "      <th>3</th>\n",
              "      <td>Escale105</td>\n",
              "      <td>Vehicule4</td>\n",
              "      <td>Remorque4</td>\n",
              "      <td>Client1</td>\n",
              "      <td>2020-01-02</td>\n",
              "      <td>08:46</td>\n",
              "      <td>2020-01-02</td>\n",
              "      <td>07:03</td>\n",
              "      <td>42560</td>\n",
              "      <td>14700</td>\n",
              "      <td>14</td>\n",
              "      <td>14.0</td>\n",
              "      <td>TRTX DE SOJA</td>\n",
              "      <td>Jaune</td>\n",
              "      <td>0 days 00:01:43</td>\n",
              "      <td>1</td>\n",
              "      <td>False</td>\n",
              "      <td>True</td>\n",
              "      <td>Janvier</td>\n",
              "    </tr>\n",
              "    <tr>\n",
              "      <th>4</th>\n",
              "      <td>Escale106</td>\n",
              "      <td>Vehicule5</td>\n",
              "      <td>Remorque5</td>\n",
              "      <td>Client1</td>\n",
              "      <td>2020-01-02</td>\n",
              "      <td>10:05</td>\n",
              "      <td>2020-01-02</td>\n",
              "      <td>07:03</td>\n",
              "      <td>42020</td>\n",
              "      <td>16300</td>\n",
              "      <td>17</td>\n",
              "      <td>17.0</td>\n",
              "      <td>PULPE DE BETTRAVE</td>\n",
              "      <td>Jaune</td>\n",
              "      <td>0 days 00:03:02</td>\n",
              "      <td>1</td>\n",
              "      <td>False</td>\n",
              "      <td>True</td>\n",
              "      <td>Janvier</td>\n",
              "    </tr>\n",
              "  </tbody>\n",
              "</table>\n",
              "</div>"
            ],
            "text/plain": [
              "  Num_escale Num_Vehicule Num_REMORQUE  ... diff_pont covid     mois\n",
              "0  Escale105    Vehicule1    Remorque1  ...     False  True  Janvier\n",
              "1  Escale106    Vehicule2    Remorque2  ...     False  True  Janvier\n",
              "2  Escale106    Vehicule3    Remorque3  ...     False  True  Janvier\n",
              "3  Escale105    Vehicule4    Remorque4  ...     False  True  Janvier\n",
              "4  Escale106    Vehicule5    Remorque5  ...     False  True  Janvier\n",
              "\n",
              "[5 rows x 19 columns]"
            ]
          },
          "metadata": {},
          "execution_count": 31
        }
      ]
    },
    {
      "cell_type": "markdown",
      "metadata": {
        "id": "s-aPjEwzRHJI"
      },
      "source": [
        "On élimine les valeurs Nan et pour concer un modèle de prédiction, on a besoin de rendre la data abordable par les algorithmes d'apprentissage automatique ce qui veut dire qu'on doit convertir toutes les variables en numériques grâce à un codage. On se base ici sur un Label Encoding qui s'est avéré mieux que le OneHot encoding en terme de performance du modèle."
      ]
    },
    {
      "cell_type": "code",
      "metadata": {
        "id": "ZIaeglx1yDJh",
        "colab": {
          "base_uri": "https://localhost:8080/",
          "height": 308
        },
        "outputId": "06cb8172-5317-4027-cde2-450c44af82aa"
      },
      "source": [
        "df.dropna(inplace=True)\n",
        "df.describe()\n",
        "#Label Encoding\n",
        "categorical_features = [\"Num_Vehicule\",\"mois\", \"Num_REMORQUE\",\"Produit\",\"covid\", \"diff_pont\", \"Num_Client\", \"Num_escale\"]\n",
        "from sklearn.preprocessing import LabelEncoder\n",
        "le = LabelEncoder()\n",
        "for feature in categorical_features : \n",
        "  df[feature]=le.fit_transform(df[feature])\n",
        "df.head()\n"
      ],
      "execution_count": null,
      "outputs": [
        {
          "output_type": "execute_result",
          "data": {
            "text/html": [
              "<div>\n",
              "<style scoped>\n",
              "    .dataframe tbody tr th:only-of-type {\n",
              "        vertical-align: middle;\n",
              "    }\n",
              "\n",
              "    .dataframe tbody tr th {\n",
              "        vertical-align: top;\n",
              "    }\n",
              "\n",
              "    .dataframe thead th {\n",
              "        text-align: right;\n",
              "    }\n",
              "</style>\n",
              "<table border=\"1\" class=\"dataframe\">\n",
              "  <thead>\n",
              "    <tr style=\"text-align: right;\">\n",
              "      <th></th>\n",
              "      <th>Num_escale</th>\n",
              "      <th>Num_Vehicule</th>\n",
              "      <th>Num_REMORQUE</th>\n",
              "      <th>Num_Client</th>\n",
              "      <th>Date_entrée</th>\n",
              "      <th>Heure_entrée</th>\n",
              "      <th>Date_sortie</th>\n",
              "      <th>Heure_sortie</th>\n",
              "      <th>Poids_chargé</th>\n",
              "      <th>Poids_vide</th>\n",
              "      <th>Pont_entrée</th>\n",
              "      <th>pont_Sortie</th>\n",
              "      <th>Produit</th>\n",
              "      <th>Groupe</th>\n",
              "      <th>temps_datt</th>\n",
              "      <th>Count</th>\n",
              "      <th>diff_pont</th>\n",
              "      <th>covid</th>\n",
              "      <th>mois</th>\n",
              "    </tr>\n",
              "  </thead>\n",
              "  <tbody>\n",
              "    <tr>\n",
              "      <th>0</th>\n",
              "      <td>7</td>\n",
              "      <td>0</td>\n",
              "      <td>0</td>\n",
              "      <td>0</td>\n",
              "      <td>2020-01-02</td>\n",
              "      <td>08:48</td>\n",
              "      <td>2020-01-02</td>\n",
              "      <td>06:58</td>\n",
              "      <td>43220</td>\n",
              "      <td>15760</td>\n",
              "      <td>14</td>\n",
              "      <td>14.0</td>\n",
              "      <td>33</td>\n",
              "      <td>Jaune</td>\n",
              "      <td>0 days 00:01:50</td>\n",
              "      <td>1</td>\n",
              "      <td>0</td>\n",
              "      <td>1</td>\n",
              "      <td>2</td>\n",
              "    </tr>\n",
              "    <tr>\n",
              "      <th>1</th>\n",
              "      <td>8</td>\n",
              "      <td>1111</td>\n",
              "      <td>1111</td>\n",
              "      <td>0</td>\n",
              "      <td>2020-01-02</td>\n",
              "      <td>08:47</td>\n",
              "      <td>2020-01-02</td>\n",
              "      <td>07:00</td>\n",
              "      <td>42460</td>\n",
              "      <td>16480</td>\n",
              "      <td>17</td>\n",
              "      <td>17.0</td>\n",
              "      <td>23</td>\n",
              "      <td>Jaune</td>\n",
              "      <td>0 days 00:01:47</td>\n",
              "      <td>1</td>\n",
              "      <td>0</td>\n",
              "      <td>1</td>\n",
              "      <td>2</td>\n",
              "    </tr>\n",
              "    <tr>\n",
              "      <th>2</th>\n",
              "      <td>8</td>\n",
              "      <td>1720</td>\n",
              "      <td>2222</td>\n",
              "      <td>0</td>\n",
              "      <td>2020-01-02</td>\n",
              "      <td>11:17</td>\n",
              "      <td>2020-01-02</td>\n",
              "      <td>07:02</td>\n",
              "      <td>42940</td>\n",
              "      <td>16600</td>\n",
              "      <td>17</td>\n",
              "      <td>17.0</td>\n",
              "      <td>23</td>\n",
              "      <td>Noire</td>\n",
              "      <td>0 days 00:04:15</td>\n",
              "      <td>1</td>\n",
              "      <td>0</td>\n",
              "      <td>1</td>\n",
              "      <td>2</td>\n",
              "    </tr>\n",
              "    <tr>\n",
              "      <th>3</th>\n",
              "      <td>7</td>\n",
              "      <td>1831</td>\n",
              "      <td>3333</td>\n",
              "      <td>0</td>\n",
              "      <td>2020-01-02</td>\n",
              "      <td>08:46</td>\n",
              "      <td>2020-01-02</td>\n",
              "      <td>07:03</td>\n",
              "      <td>42560</td>\n",
              "      <td>14700</td>\n",
              "      <td>14</td>\n",
              "      <td>14.0</td>\n",
              "      <td>33</td>\n",
              "      <td>Jaune</td>\n",
              "      <td>0 days 00:01:43</td>\n",
              "      <td>1</td>\n",
              "      <td>0</td>\n",
              "      <td>1</td>\n",
              "      <td>2</td>\n",
              "    </tr>\n",
              "    <tr>\n",
              "      <th>4</th>\n",
              "      <td>8</td>\n",
              "      <td>1942</td>\n",
              "      <td>3634</td>\n",
              "      <td>0</td>\n",
              "      <td>2020-01-02</td>\n",
              "      <td>10:05</td>\n",
              "      <td>2020-01-02</td>\n",
              "      <td>07:03</td>\n",
              "      <td>42020</td>\n",
              "      <td>16300</td>\n",
              "      <td>17</td>\n",
              "      <td>17.0</td>\n",
              "      <td>23</td>\n",
              "      <td>Jaune</td>\n",
              "      <td>0 days 00:03:02</td>\n",
              "      <td>1</td>\n",
              "      <td>0</td>\n",
              "      <td>1</td>\n",
              "      <td>2</td>\n",
              "    </tr>\n",
              "  </tbody>\n",
              "</table>\n",
              "</div>"
            ],
            "text/plain": [
              "   Num_escale  Num_Vehicule  Num_REMORQUE  ...  diff_pont covid mois\n",
              "0           7             0             0  ...          0     1    2\n",
              "1           8          1111          1111  ...          0     1    2\n",
              "2           8          1720          2222  ...          0     1    2\n",
              "3           7          1831          3333  ...          0     1    2\n",
              "4           8          1942          3634  ...          0     1    2\n",
              "\n",
              "[5 rows x 19 columns]"
            ]
          },
          "metadata": {},
          "execution_count": 32
        }
      ]
    },
    {
      "cell_type": "code",
      "metadata": {
        "colab": {
          "base_uri": "https://localhost:8080/",
          "height": 224
        },
        "id": "dKjaSAIXqI3V",
        "outputId": "88bb3c4f-dd7d-471a-bbb3-b2551e01fa70"
      },
      "source": [
        "df['temps_datt']=60*time_df['Temps d’attente'].dt.total_seconds()\n",
        "df.head()"
      ],
      "execution_count": null,
      "outputs": [
        {
          "output_type": "execute_result",
          "data": {
            "text/html": [
              "<div>\n",
              "<style scoped>\n",
              "    .dataframe tbody tr th:only-of-type {\n",
              "        vertical-align: middle;\n",
              "    }\n",
              "\n",
              "    .dataframe tbody tr th {\n",
              "        vertical-align: top;\n",
              "    }\n",
              "\n",
              "    .dataframe thead th {\n",
              "        text-align: right;\n",
              "    }\n",
              "</style>\n",
              "<table border=\"1\" class=\"dataframe\">\n",
              "  <thead>\n",
              "    <tr style=\"text-align: right;\">\n",
              "      <th></th>\n",
              "      <th>Num_escale</th>\n",
              "      <th>Num_Vehicule</th>\n",
              "      <th>Num_REMORQUE</th>\n",
              "      <th>Num_Client</th>\n",
              "      <th>Date_entrée</th>\n",
              "      <th>Heure_entrée</th>\n",
              "      <th>Date_sortie</th>\n",
              "      <th>Heure_sortie</th>\n",
              "      <th>Poids_chargé</th>\n",
              "      <th>Poids_vide</th>\n",
              "      <th>Pont_entrée</th>\n",
              "      <th>pont_Sortie</th>\n",
              "      <th>Produit</th>\n",
              "      <th>Groupe</th>\n",
              "      <th>temps_datt</th>\n",
              "      <th>Count</th>\n",
              "      <th>diff_pont</th>\n",
              "      <th>covid</th>\n",
              "      <th>mois</th>\n",
              "    </tr>\n",
              "  </thead>\n",
              "  <tbody>\n",
              "    <tr>\n",
              "      <th>0</th>\n",
              "      <td>7</td>\n",
              "      <td>0</td>\n",
              "      <td>0</td>\n",
              "      <td>0</td>\n",
              "      <td>2020-01-02</td>\n",
              "      <td>08:48</td>\n",
              "      <td>2020-01-02</td>\n",
              "      <td>06:58</td>\n",
              "      <td>43220</td>\n",
              "      <td>15760</td>\n",
              "      <td>14</td>\n",
              "      <td>14.0</td>\n",
              "      <td>33</td>\n",
              "      <td>Jaune</td>\n",
              "      <td>6600.0</td>\n",
              "      <td>1</td>\n",
              "      <td>0</td>\n",
              "      <td>1</td>\n",
              "      <td>2</td>\n",
              "    </tr>\n",
              "    <tr>\n",
              "      <th>1</th>\n",
              "      <td>8</td>\n",
              "      <td>1111</td>\n",
              "      <td>1111</td>\n",
              "      <td>0</td>\n",
              "      <td>2020-01-02</td>\n",
              "      <td>08:47</td>\n",
              "      <td>2020-01-02</td>\n",
              "      <td>07:00</td>\n",
              "      <td>42460</td>\n",
              "      <td>16480</td>\n",
              "      <td>17</td>\n",
              "      <td>17.0</td>\n",
              "      <td>23</td>\n",
              "      <td>Jaune</td>\n",
              "      <td>6420.0</td>\n",
              "      <td>1</td>\n",
              "      <td>0</td>\n",
              "      <td>1</td>\n",
              "      <td>2</td>\n",
              "    </tr>\n",
              "    <tr>\n",
              "      <th>2</th>\n",
              "      <td>8</td>\n",
              "      <td>1720</td>\n",
              "      <td>2222</td>\n",
              "      <td>0</td>\n",
              "      <td>2020-01-02</td>\n",
              "      <td>11:17</td>\n",
              "      <td>2020-01-02</td>\n",
              "      <td>07:02</td>\n",
              "      <td>42940</td>\n",
              "      <td>16600</td>\n",
              "      <td>17</td>\n",
              "      <td>17.0</td>\n",
              "      <td>23</td>\n",
              "      <td>Noire</td>\n",
              "      <td>15300.0</td>\n",
              "      <td>1</td>\n",
              "      <td>0</td>\n",
              "      <td>1</td>\n",
              "      <td>2</td>\n",
              "    </tr>\n",
              "    <tr>\n",
              "      <th>3</th>\n",
              "      <td>7</td>\n",
              "      <td>1831</td>\n",
              "      <td>3333</td>\n",
              "      <td>0</td>\n",
              "      <td>2020-01-02</td>\n",
              "      <td>08:46</td>\n",
              "      <td>2020-01-02</td>\n",
              "      <td>07:03</td>\n",
              "      <td>42560</td>\n",
              "      <td>14700</td>\n",
              "      <td>14</td>\n",
              "      <td>14.0</td>\n",
              "      <td>33</td>\n",
              "      <td>Jaune</td>\n",
              "      <td>6180.0</td>\n",
              "      <td>1</td>\n",
              "      <td>0</td>\n",
              "      <td>1</td>\n",
              "      <td>2</td>\n",
              "    </tr>\n",
              "    <tr>\n",
              "      <th>4</th>\n",
              "      <td>8</td>\n",
              "      <td>1942</td>\n",
              "      <td>3634</td>\n",
              "      <td>0</td>\n",
              "      <td>2020-01-02</td>\n",
              "      <td>10:05</td>\n",
              "      <td>2020-01-02</td>\n",
              "      <td>07:03</td>\n",
              "      <td>42020</td>\n",
              "      <td>16300</td>\n",
              "      <td>17</td>\n",
              "      <td>17.0</td>\n",
              "      <td>23</td>\n",
              "      <td>Jaune</td>\n",
              "      <td>10920.0</td>\n",
              "      <td>1</td>\n",
              "      <td>0</td>\n",
              "      <td>1</td>\n",
              "      <td>2</td>\n",
              "    </tr>\n",
              "  </tbody>\n",
              "</table>\n",
              "</div>"
            ],
            "text/plain": [
              "   Num_escale  Num_Vehicule  Num_REMORQUE  ...  diff_pont covid mois\n",
              "0           7             0             0  ...          0     1    2\n",
              "1           8          1111          1111  ...          0     1    2\n",
              "2           8          1720          2222  ...          0     1    2\n",
              "3           7          1831          3333  ...          0     1    2\n",
              "4           8          1942          3634  ...          0     1    2\n",
              "\n",
              "[5 rows x 19 columns]"
            ]
          },
          "metadata": {},
          "execution_count": 33
        }
      ]
    },
    {
      "cell_type": "markdown",
      "metadata": {
        "id": "lnO27-XXTL7A"
      },
      "source": [
        "On passe à l'étape classique de découpage de la dataset en deux groupes d'entrainement et tester avant de la passer à notre modèle."
      ]
    },
    {
      "cell_type": "code",
      "metadata": {
        "id": "dDSeecwXl8ES"
      },
      "source": [
        "from sklearn.model_selection import train_test_split\n",
        "targets = df.Groupe.astype(\"category\")\n",
        "targets.name = \"target\"\n",
        "df.drop(\"Groupe\", axis=1, inplace=True)\n",
        "df.drop(\"Heure_sortie\", axis=1, inplace=True)\n",
        "df.drop(\"Date_sortie\", axis=1, inplace=True)\n",
        "df.drop(\"Heure_entrée\", axis=1, inplace=True)\n",
        "df.drop(\"Date_entrée\", axis=1, inplace=True)\n",
        "targets.dropna()\n",
        "train_data, test_data, train_targets, test_targets = train_test_split(df, targets, test_size=0.2, random_state=42)\n"
      ],
      "execution_count": null,
      "outputs": []
    },
    {
      "cell_type": "markdown",
      "metadata": {
        "id": "wEsd7lTvTSBH"
      },
      "source": [
        "Pour une classification, beaucoup de modèle peuvent nous venir à l'esprit  : Logistic regression , svm, decision trees.. Néaumoins, ces derniers s'avèrent non performant à cause de la structure non équilibrée de la dataset sous nos mains. Ainsi, on a opté pour un modèle de Gradient boosting qui est généralement robuste et performant surtout pour les données tabulaire ."
      ]
    },
    {
      "cell_type": "code",
      "metadata": {
        "id": "u7A-SuSW2QPq"
      },
      "source": [
        "from sklearn.ensemble import GradientBoostingClassifier\n",
        "\n",
        "#Creer le Gradient Boosting Classifier\n",
        "gb = GradientBoostingClassifier()\n",
        "\n",
        "#Entrainement \n",
        "gb.fit(train_data, train_targets)\n",
        "\n",
        "#Prediction\n",
        "y_pred = gb.predict(test_data)\n",
        "y_tpred = gb.predict(train_data)"
      ],
      "execution_count": null,
      "outputs": []
    },
    {
      "cell_type": "markdown",
      "metadata": {
        "id": "3bSzPwIUTuKp"
      },
      "source": [
        "Pour juger notre préformance on a opté pour l'accuracy du model"
      ]
    },
    {
      "cell_type": "code",
      "metadata": {
        "colab": {
          "base_uri": "https://localhost:8080/"
        },
        "id": "43tv6Ceo5RCB",
        "outputId": "fc93c571-3c28-4b59-d4d5-30f262392929"
      },
      "source": [
        "from sklearn import metrics\n",
        "\n",
        "print(\"accuracy training:\",metrics.accuracy_score(train_targets, y_tpred))\n",
        "print(\"accuracy test:\",metrics.accuracy_score(test_targets, y_pred))"
      ],
      "execution_count": null,
      "outputs": [
        {
          "output_type": "stream",
          "name": "stdout",
          "text": [
            "accuracy training: 0.69119209519762\n",
            "accuracy test: 0.6865217083362845\n"
          ]
        }
      ]
    },
    {
      "cell_type": "markdown",
      "metadata": {
        "id": "RmCJxQUxTzQu"
      },
      "source": [
        "Le code ci-dessous sert à optimiser la variable score qui retourne l'accuracy issue d'une validation croisée sur notre modèle Light Gradient Boosting Machine. Les hyperparamètres du modèle, renseignées par la variable space ci-dessous, sont réglés (fine-tuned) grâce à la librairie Hyperopt et passés à la fin au modèle grâce à la commande (**best, best étant le dictionnaires des arguments optimaux du modèles). "
      ]
    },
    {
      "cell_type": "code",
      "metadata": {
        "colab": {
          "base_uri": "https://localhost:8080/"
        },
        "id": "EfpjBtqm6nt5",
        "outputId": "c7a8ddf3-b729-4b43-8b47-10ea27546c0b"
      },
      "source": [
        "import hyperopt\n",
        "from hyperopt import fmin, tpe, hp, anneal, Trials\n",
        "from sklearn.model_selection import cross_val_score\n",
        "from lightgbm.sklearn import LGBMClassifier\n",
        "#Gradient boosting f1 cross validation :\n",
        "def gb_f1_cv(params, random_state=42, cv=5, X=train_data, y=train_targets):\n",
        "    params['n_estimators'] = int(params['n_estimators'])\n",
        "    params['max_depth'] = int(params['max_depth'])\n",
        "    params['num_leaves'] = int(params['num_leaves'])\n",
        "    \n",
        "    model = LGBMClassifier(random_state=42, **params)\n",
        "    score = -cross_val_score(model, X, y, cv=cv, scoring=\"accuracy\", n_jobs=-1).mean()\n",
        "    return score\n",
        "\n",
        "space = {'learning_rate': hp.uniform('learning_rate', 0.01, 0.2),\n",
        "         'n_estimators': hp.quniform('n_estimators', 100, 2000, 1),\n",
        "         'max_depth' : hp.quniform('max_depth', 2, 20, 1),\n",
        "         'num_leaves': hp.quniform('num_leaves', 31, 255, 4),\n",
        "         'min_child_weight': hp.uniform('min_child_weight', 0.1, 10),\n",
        "         'colsample_bytree': hp.uniform('colsample_bytree', 0.5, 1.),\n",
        "         'subsample': hp.uniform('subsample', 0.5, 1.),\n",
        "         'reg_alpha': hp.uniform('reg_alpha', 0.001, 1),\n",
        "         'reg_lambda': hp.uniform('reg_lambda', 0.001, 1)}\n",
        "#Fine tuning hyperparameters of our model :\n",
        "trials = Trials()\n",
        "best = fmin(fn=gb_f1_cv, space=space, algo=tpe.suggest, max_evals=50, trials=trials, rstate=np.random.RandomState(42))\n",
        "best['n_estimators'] = int(best['n_estimators'])\n",
        "best['num_leaves'] = int(best['num_leaves'])\n",
        "best['max_depth'] = int(best['max_depth'])\n",
        "model = LGBMClassifier(random_state=42, categorical_feature=[0, 4, 5, 6, 8, 9, 10, 11], **best)\n",
        "_ = model.fit(train_data,train_targets)"
      ],
      "execution_count": null,
      "outputs": [
        {
          "output_type": "stream",
          "name": "stdout",
          "text": [
            " 10%|█         | 5/50 [08:15<1:21:03, 108.08s/it, best loss: -0.6862693122988438]"
          ]
        },
        {
          "output_type": "stream",
          "name": "stderr",
          "text": [
            "/usr/local/lib/python3.7/dist-packages/joblib/externals/loky/process_executor.py:691: UserWarning: A worker stopped while some jobs were given to the executor. This can be caused by a too short worker timeout or by a memory leak.\n",
            "  \"timeout or by a memory leak.\", UserWarning\n",
            "\n"
          ]
        },
        {
          "output_type": "stream",
          "name": "stdout",
          "text": [
            "100%|██████████| 50/50 [1:08:23<00:00, 82.07s/it, best loss: -0.6903066991424734]\n"
          ]
        },
        {
          "output_type": "stream",
          "name": "stderr",
          "text": [
            "/usr/local/lib/python3.7/dist-packages/lightgbm/basic.py:741: UserWarning: categorical_feature keyword has been found in `params` and will be ignored.\n",
            "Please use categorical_feature argument of the Dataset constructor to pass this parameter.\n",
            "  .format(key))\n"
          ]
        }
      ]
    },
    {
      "cell_type": "code",
      "metadata": {
        "colab": {
          "base_uri": "https://localhost:8080/"
        },
        "id": "W7-yEN0XQNnK",
        "outputId": "ffe8e298-9da2-4a17-f732-f3ee326fa316"
      },
      "source": [
        "from sklearn.metrics import f1_score, recall_score, precision_score\n",
        "train_preds = model.predict(train_data)\n",
        "test_preds = model.predict(test_data)\n",
        "\n",
        "train_score = metrics.accuracy_score(train_preds, train_targets)\n",
        "test_score = metrics.accuracy_score(test_preds, test_targets)\n",
        "\n",
        "print(\"Accuracy on train data : {:.2f}\".format(train_score*100))\n",
        "print(\"Accuracy on test data : {:.2f}\".format(test_score*100))"
      ],
      "execution_count": null,
      "outputs": [
        {
          "output_type": "stream",
          "name": "stdout",
          "text": [
            "Accuracy on train data : 69.19\n",
            "Accuracy on test data : 68.51\n"
          ]
        }
      ]
    },
    {
      "cell_type": "markdown",
      "metadata": {
        "id": "nRwe2LesUQd_"
      },
      "source": [
        "On constate alors que cette accuracy est l'optimum pour notre model et vu notre data, Dans cette partie, on utilise feature_importances pour trier les variables en terme de leur significativité dans le modèle.La première partie de notre étude a mis en valeur ces variables à travers des visualisations ce qui rends le résultats logiques. Néaumoins, l'apparition de 'Num_esclale' comme variable importante est surprenant. "
      ]
    },
    {
      "cell_type": "code",
      "metadata": {
        "id": "iHdMv8dHQyOB"
      },
      "source": [
        "feature_importances = model.feature_importances_\n",
        "feature_importances_dict = {}\n",
        "for i in range(feature_importances.shape[0]) :\n",
        "    feature_importances_dict[train_data.columns[i]] = feature_importances[i]\n",
        "    \n",
        "feature_importances_dict = {k: v for k, v in sorted(feature_importances_dict.items(), key=lambda item: item[1])}"
      ],
      "execution_count": null,
      "outputs": []
    },
    {
      "cell_type": "code",
      "metadata": {
        "colab": {
          "base_uri": "https://localhost:8080/",
          "height": 774
        },
        "id": "r_-LZ8wZQ2_a",
        "outputId": "343493a9-f709-484b-9e66-d6a2c50063d0"
      },
      "source": [
        "\n",
        "fig, ax = plt.subplots(nrows=1, ncols=1, figsize=(30, 15))\n",
        "ax.bar(*zip(*feature_importances_dict.items()))\n",
        "ax.tick_params(axis='x', labelsize=20)\n",
        "for tick in ax.get_xticklabels():\n",
        "    tick.set_rotation(90)\n",
        "\n",
        "plt.show()"
      ],
      "execution_count": null,
      "outputs": [
        {
          "output_type": "display_data",
          "data": {
            "image/png": "[encoded data removed]",
            "text/plain": [
              "<Figure size 2160x1080 with 1 Axes>"
            ]
          },
          "metadata": {
            "needs_background": "light"
          }
        }
      ]
    }
  ]
}